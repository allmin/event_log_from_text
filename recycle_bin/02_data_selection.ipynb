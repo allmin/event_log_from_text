{
 "cells": [
  {
   "cell_type": "code",
   "execution_count": 1,
   "metadata": {},
   "outputs": [
    {
     "name": "stderr",
     "output_type": "stream",
     "text": [
      "/home/asusaiyah/projects/event_log_from_text/.venv/lib/python3.12/site-packages/tqdm/auto.py:21: TqdmWarning: IProgress not found. Please update jupyter and ipywidgets. See https://ipywidgets.readthedocs.io/en/stable/user_install.html\n",
      "  from .autonotebook import tqdm as notebook_tqdm\n"
     ]
    }
   ],
   "source": [
    "import pandas as pd\n",
    "import sys\n",
    "import os\n",
    "selected_categories = [\"Nursing\", \"Nursing/other\"]\n",
    "# Add parent directory to sys.path\n",
    "parent_dir = os.path.abspath(os.path.join(os.getcwd(), '..'))\n",
    "if parent_dir not in sys.path:\n",
    "    sys.path.append(parent_dir)\n",
    "\n",
    "import importlib\n",
    "import utils.event_extractor  \n",
    "\n",
    "importlib.reload(utils.event_extractor)\n",
    "from utils.event_extractor import EventExtractor  \n",
    "\n",
    "import pandas as pd\n",
    "import numpy as np\n",
    "\n",
    "def get_quartiles(df, column):\n",
    "    \"\"\"\n",
    "    Calculate the quartiles (Q1, Q2, Q3) for a given column in a DataFrame and return the quartile values along with the subset of rows between Q1 and Q2.\n",
    "\n",
    "    Parameters:\n",
    "        df (pd.DataFrame): The DataFrame containing the data.\n",
    "        column (str): The column name for which to calculate quartiles.\n",
    "\n",
    "    Returns:\n",
    "        tuple: (q1, q2, q3, mid_df)\n",
    "            q1 (float): 25th percentile value.\n",
    "            q2 (float): Median (50th percentile) value.\n",
    "            q3 (float): 75th percentile value.\n",
    "            mid_df (pd.DataFrame): Subset of df where column values are between q1 and q2 (inclusive).\n",
    "    \"\"\"\n",
    "    q1 = df[column].quantile(0.25)\n",
    "    q2 = df[column].median()\n",
    "    q3 = df[column].quantile(0.75)\n",
    "    mid_df = df[(df[column]>=q1)&(df[column]<=q2)]\n",
    "    num = len(mid_df)\n",
    "    print(f\"{column} Quartiles :\")\n",
    "    print(f\"Q1 (25th percentile): {q1:.2f}\")\n",
    "    print(f\"Q2 (Median):          {q2:.2f}\")\n",
    "    print(f\"Q3 (75th percentile): {q3:.2f}\")\n",
    "    print(f\"Number of rows in this range q1-q3: {num}\")\n",
    "    return q1,q2,q3,mid_df\n"
   ]
  },
  {
   "cell_type": "code",
   "execution_count": 2,
   "metadata": {},
   "outputs": [],
   "source": [
    "\n",
    "\n",
    "# Load the admissions data\n",
    "admissions = pd.read_pickle(\"../data/ADMISSIONS.pkl\")\n",
    "\n",
    "# Calculate Length of Stay in days\n",
    "admissions[\"LOS_DAYS\"] = (admissions[\"DISCHTIME\"] - admissions[\"ADMITTIME\"]).dt.total_seconds() / (24 * 3600)\n",
    "\n",
    "# stay_q1,stay_q2,stay_q3 = get_quartiles(admissions, \"LOS_DAYS\")\n",
    "\n",
    "\n",
    "\n"
   ]
  },
  {
   "cell_type": "markdown",
   "metadata": {},
   "source": [
    "Valid, alive patients are those who have a valide DOB and do not have a DOD associated to them.\n",
    "\n"
   ]
  },
  {
   "cell_type": "code",
   "execution_count": 3,
   "metadata": {},
   "outputs": [
    {
     "name": "stdout",
     "output_type": "stream",
     "text": [
      "Number of patients not known to have died: 30761\n",
      "   ROW_ID  SUBJECT_ID GENDER        DOB DOD DOD_HOSP DOD_SSN  EXPIRE_FLAG\n",
      "0     234         249      F 2075-03-13 NaT      NaT     NaT            0\n",
      "2     236         251      M 2090-03-15 NaT      NaT     NaT            0\n",
      "3     237         252      M 2078-03-06 NaT      NaT     NaT            0\n",
      "4     238         253      F 2089-11-26 NaT      NaT     NaT            0\n",
      "5     239         255      M 2109-08-05 NaT      NaT     NaT            0\n"
     ]
    },
    {
     "data": {
      "text/plain": [
       "Timestamp('1800-07-16 00:00:00')"
      ]
     },
     "execution_count": 3,
     "metadata": {},
     "output_type": "execute_result"
    }
   ],
   "source": [
    "\n",
    "# Load the PATIENTS.pkl file\n",
    "patients = pd.read_pickle(\"../data/PATIENTS.pkl\")\n",
    "notes = pd.read_pickle(\"../data/NOTEEVENTS.pkl\")\n",
    "notes['HADM_ID'] = notes['HADM_ID'].fillna(0).astype(int)\n",
    "notes = notes[notes.ISERROR!=1]\n",
    "date_cols = ['DOB', 'DOD', 'DOD_HOSP', 'DOD_SSN']\n",
    "patients[date_cols] = patients[date_cols].apply(pd.to_datetime, errors='coerce')\n",
    "\n",
    "# Filter patients with no recorded death\n",
    "alive_patients = patients[\n",
    "    patients['DOD'].isna() &\n",
    "    patients['DOD_HOSP'].isna() &\n",
    "    patients['DOD_SSN'].isna()\n",
    "]\n",
    "\n",
    "print(f\"Number of patients not known to have died: {len(alive_patients)}\")\n",
    "print(alive_patients.head())\n",
    "\n",
    "\n",
    "valid_alive_patients = alive_patients\n",
    "valid_alive_patients['DOB'].min()\n"
   ]
  },
  {
   "cell_type": "code",
   "execution_count": 4,
   "metadata": {},
   "outputs": [],
   "source": [
    "from datetime import datetime\n",
    "import numpy as np\n",
    "\n",
    "def calculate_age(row):\n",
    "    admit = row['ADMITTIME'].to_pydatetime()\n",
    "    dob = row['DOB'].to_pydatetime()\n",
    "    return (admit - dob).days / 365.25\n",
    "\n",
    "subject_id_to_dob = {i:j for (i,j) in zip(valid_alive_patients[\"SUBJECT_ID\"], valid_alive_patients[\"DOB\"])}\n",
    "\n",
    "\n",
    "notes_selected = notes[~notes.duplicated(subset=[\"HADM_ID\",\"CATEGORY\",\"CHARTTIME\"],keep=False)]\n",
    "notes_selected = notes_selected[notes_selected.HADM_ID.isin(admissions.HADM_ID) & notes_selected.CATEGORY.isin(selected_categories)]\n",
    "grouped_notes = notes_selected[notes_selected.CATEGORY.isin(selected_categories)].groupby(['HADM_ID']).count()['TEXT'].reset_index().rename(columns={'TEXT': 'COUNT_TEXT'})\n",
    "hadm_to_num_report = {i:j for (i,j) in zip(grouped_notes[\"HADM_ID\"], grouped_notes[\"COUNT_TEXT\"])}\n",
    "\n",
    "\n",
    "\n",
    "admissions['DOB'] = admissions['SUBJECT_ID'].apply(lambda x: subject_id_to_dob.get(x, np.nan))\n",
    "admissions['AGE'] = admissions.apply(calculate_age, axis=1)\n",
    "admissions['NUM_REPORTS'] = admissions['HADM_ID'].apply(lambda x:hadm_to_num_report.get(x, np.nan))\n",
    "\n"
   ]
  },
  {
   "cell_type": "code",
   "execution_count": null,
   "metadata": {},
   "outputs": [
    {
     "data": {
      "text/plain": [
       "1330"
      ]
     },
     "execution_count": 5,
     "metadata": {},
     "output_type": "execute_result"
    }
   ],
   "source": [
    "import numpy as np\n",
    "admissions[\"rounded_LOS\"] = admissions[\"LOS_DAYS\"].apply(lambda x: np.floor(x))\n",
    "admissions = admissions[(admissions[\"LOS_DAYS\"]<=admissions[\"NUM_REPORTS\"]) & (admissions[\"LOS_DAYS\"]<=14) &(admissions[\"LOS_DAYS\"]>=5) ]\n",
    "admissions = admissions[admissions.AGE<200]\n",
    "admissions = admissions[admissions.AGE>=18]\n",
    "admissions.dropna(subset=[\"DOB\",\"NUM_REPORTS\"],inplace=True)\n",
    "# numreports less than no of days of stay rounded floor -> eliminate\n",
    "len(admissions)\n",
    "\n"
   ]
  },
  {
   "cell_type": "code",
   "execution_count": 6,
   "metadata": {},
   "outputs": [
    {
     "data": {
      "text/html": [
       "<div>\n",
       "<style scoped>\n",
       "    .dataframe tbody tr th:only-of-type {\n",
       "        vertical-align: middle;\n",
       "    }\n",
       "\n",
       "    .dataframe tbody tr th {\n",
       "        vertical-align: top;\n",
       "    }\n",
       "\n",
       "    .dataframe thead th {\n",
       "        text-align: right;\n",
       "    }\n",
       "</style>\n",
       "<table border=\"1\" class=\"dataframe\">\n",
       "  <thead>\n",
       "    <tr style=\"text-align: right;\">\n",
       "      <th></th>\n",
       "      <th>ROW_ID</th>\n",
       "      <th>SUBJECT_ID</th>\n",
       "      <th>HADM_ID</th>\n",
       "      <th>CGID</th>\n",
       "      <th>ISERROR</th>\n",
       "    </tr>\n",
       "  </thead>\n",
       "  <tbody>\n",
       "    <tr>\n",
       "      <th>count</th>\n",
       "      <td>1.305100e+04</td>\n",
       "      <td>13051.000000</td>\n",
       "      <td>13051.000000</td>\n",
       "      <td>13051.000000</td>\n",
       "      <td>0.0</td>\n",
       "    </tr>\n",
       "    <tr>\n",
       "      <th>mean</th>\n",
       "      <td>1.466871e+06</td>\n",
       "      <td>17185.582101</td>\n",
       "      <td>149492.458279</td>\n",
       "      <td>17804.079228</td>\n",
       "      <td>NaN</td>\n",
       "    </tr>\n",
       "    <tr>\n",
       "      <th>std</th>\n",
       "      <td>1.647852e+05</td>\n",
       "      <td>11453.918485</td>\n",
       "      <td>29000.958290</td>\n",
       "      <td>2300.041073</td>\n",
       "      <td>NaN</td>\n",
       "    </tr>\n",
       "    <tr>\n",
       "      <th>min</th>\n",
       "      <td>3.235530e+05</td>\n",
       "      <td>13.000000</td>\n",
       "      <td>100046.000000</td>\n",
       "      <td>14020.000000</td>\n",
       "      <td>NaN</td>\n",
       "    </tr>\n",
       "    <tr>\n",
       "      <th>25%</th>\n",
       "      <td>1.360976e+06</td>\n",
       "      <td>7735.000000</td>\n",
       "      <td>124050.000000</td>\n",
       "      <td>15654.000000</td>\n",
       "      <td>NaN</td>\n",
       "    </tr>\n",
       "    <tr>\n",
       "      <th>50%</th>\n",
       "      <td>1.482178e+06</td>\n",
       "      <td>17113.000000</td>\n",
       "      <td>150552.000000</td>\n",
       "      <td>17707.000000</td>\n",
       "      <td>NaN</td>\n",
       "    </tr>\n",
       "    <tr>\n",
       "      <th>75%</th>\n",
       "      <td>1.593146e+06</td>\n",
       "      <td>25544.000000</td>\n",
       "      <td>174342.000000</td>\n",
       "      <td>19907.000000</td>\n",
       "      <td>NaN</td>\n",
       "    </tr>\n",
       "    <tr>\n",
       "      <th>max</th>\n",
       "      <td>1.678758e+06</td>\n",
       "      <td>99322.000000</td>\n",
       "      <td>199866.000000</td>\n",
       "      <td>21570.000000</td>\n",
       "      <td>NaN</td>\n",
       "    </tr>\n",
       "  </tbody>\n",
       "</table>\n",
       "</div>"
      ],
      "text/plain": [
       "             ROW_ID    SUBJECT_ID        HADM_ID          CGID  ISERROR\n",
       "count  1.305100e+04  13051.000000   13051.000000  13051.000000      0.0\n",
       "mean   1.466871e+06  17185.582101  149492.458279  17804.079228      NaN\n",
       "std    1.647852e+05  11453.918485   29000.958290   2300.041073      NaN\n",
       "min    3.235530e+05     13.000000  100046.000000  14020.000000      NaN\n",
       "25%    1.360976e+06   7735.000000  124050.000000  15654.000000      NaN\n",
       "50%    1.482178e+06  17113.000000  150552.000000  17707.000000      NaN\n",
       "75%    1.593146e+06  25544.000000  174342.000000  19907.000000      NaN\n",
       "max    1.678758e+06  99322.000000  199866.000000  21570.000000      NaN"
      ]
     },
     "execution_count": 6,
     "metadata": {},
     "output_type": "execute_result"
    }
   ],
   "source": [
    "\n",
    "# notes_selected[notes_selected].sort_values([\"HADM_ID\",\"CHARTTIME\"])\n",
    "\n",
    "# notes_selected.to_excel(\"../exports/temporary_view.xlsx\")\n",
    "notes_selected = notes_selected[notes_selected.HADM_ID.isin(admissions.HADM_ID.unique()) & notes_selected.CATEGORY.isin(selected_categories)]\n",
    "notes_selected.describe()\n"
   ]
  },
  {
   "cell_type": "code",
   "execution_count": 7,
   "metadata": {},
   "outputs": [
    {
     "name": "stdout",
     "output_type": "stream",
     "text": [
      "NUM_REPORTS_PER_DAY Quartiles :\n",
      "Q1 (25th percentile): 1.17\n",
      "Q2 (Median):          1.39\n",
      "Q3 (75th percentile): 1.76\n",
      "Number of rows in this range q1-q3: 332\n",
      "1.5IQR+Q3=: 2.6431497339620336\n"
     ]
    },
    {
     "data": {
      "image/png": "[encoded data removed]",
      "text/plain": [
       "<Figure size 640x480 with 1 Axes>"
      ]
     },
     "metadata": {},
     "output_type": "display_data"
    }
   ],
   "source": [
    "import matplotlib.pyplot as plt\n",
    "admissions[\"NUM_REPORTS_PER_DAY\"] = admissions[\"NUM_REPORTS\"]/admissions[\"LOS_DAYS\"]\n",
    "plot_details = plt.boxplot(x=admissions[\"NUM_REPORTS_PER_DAY\"])\n",
    "q1,q2,q3,df_sel = get_quartiles(admissions,\"NUM_REPORTS_PER_DAY\")\n",
    "print(\"1.5IQR+Q3=:\",q3 + 1.5* (q3-q1))"
   ]
  },
  {
   "cell_type": "code",
   "execution_count": 8,
   "metadata": {},
   "outputs": [
    {
     "data": {
      "text/plain": [
       "(np.float64(13051.0), 13051)"
      ]
     },
     "execution_count": 8,
     "metadata": {},
     "output_type": "execute_result"
    }
   ],
   "source": [
    "admissions['NUM_REPORTS'].sum(), len(notes_selected)\n"
   ]
  },
  {
   "cell_type": "code",
   "execution_count": 9,
   "metadata": {},
   "outputs": [
    {
     "data": {
      "text/plain": [
       "3.6205555555555557"
      ]
     },
     "execution_count": 9,
     "metadata": {},
     "output_type": "execute_result"
    }
   ],
   "source": [
    "\n",
    "13034 * 50/180000"
   ]
  },
  {
   "cell_type": "code",
   "execution_count": null,
   "metadata": {},
   "outputs": [],
   "source": []
  },
  {
   "cell_type": "code",
   "execution_count": 10,
   "metadata": {},
   "outputs": [
    {
     "name": "stdout",
     "output_type": "stream",
     "text": [
      "LOS_DAYS Quartiles :\n",
      "Q1 (25th percentile): 5.66\n",
      "Q2 (Median):          6.22\n",
      "Q3 (75th percentile): 7.00\n",
      "Number of rows in this range q1-q3: 332\n",
      "NUM_REPORTS Quartiles :\n",
      "Q1 (25th percentile): 7.00\n",
      "Q2 (Median):          9.00\n",
      "Q3 (75th percentile): 11.00\n",
      "Number of rows in this range q1-q3: 635\n",
      "AGE Quartiles :\n",
      "Q1 (25th percentile): 47.87\n",
      "Q2 (Median):          59.60\n",
      "Q3 (75th percentile): 71.70\n",
      "Number of rows in this range q1-q3: 332\n"
     ]
    }
   ],
   "source": [
    "los_quartiles = get_quartiles(admissions, \"LOS_DAYS\")\n",
    "n_report_quartiles = get_quartiles(admissions, \"NUM_REPORTS\")\n",
    "age_quartiles = get_quartiles(admissions,\"AGE\")\n"
   ]
  },
  {
   "cell_type": "code",
   "execution_count": 11,
   "metadata": {},
   "outputs": [
    {
     "name": "stdout",
     "output_type": "stream",
     "text": [
      "88.60780287474333\n"
     ]
    },
    {
     "data": {
      "text/plain": [
       "<Axes: >"
      ]
     },
     "execution_count": 11,
     "metadata": {},
     "output_type": "execute_result"
    },
    {
     "data": {
      "image/png": "[encoded data removed]",
      "text/plain": [
       "<Figure size 640x480 with 1 Axes>"
      ]
     },
     "metadata": {},
     "output_type": "display_data"
    }
   ],
   "source": [
    "print(admissions['AGE'].max())\n",
    "admissions['AGE'].hist(bins=89)"
   ]
  },
  {
   "cell_type": "code",
   "execution_count": 13,
   "metadata": {},
   "outputs": [
    {
     "name": "stdout",
     "output_type": "stream",
     "text": [
      "['Patient remains alert and oriented x3.', 'Maintaining bed rest, breathing\\n   comfortable on O2 via NC @ 3l/min.', 'Desaturates to the 80\\ns on room air.', 'Using IS well without need for encouragement.', 'Bilateral compression sleeves on and tolerating well.', 'Does have some\\n   lower extremity edema, which has been present since admission to the\\n   unit.', 'Fever, unknown origin (FUO, Hyperthermia, Pyrexia)', '   Patient\\ns temp is being monitored q4hr/pro re nata.', 'Blood culture and urine\\n   culture sent for analysis.', 'Unable to get sputum as patient.', 'has non\\n   productive cough and effort is poor.', 'Mostly esophageal secretion.', '   Temperatures documented accordingly and antipyretic ordered pro re nata.', 'Lab\\n   trends being monitored.', '   Remained afebrile overnight.', 'Urine culture negative for any organisms,\\n   blood cultures are still pending.', 'WBCs now WNL.', '   Obtain sputum for culture if able.', 'Continue to watch for febrile\\n   spikes.', 'Continue prescribed antibiotic therapy.', 'Atrial flutter (Aflutter)', '   Patient converted to sinus rhythm around [**2064**] on [**2153-4-25**] without any\\n   intervention.', '   12 lead EKG obtained to confirm rhythm change.', '   Patient remains asymptomatic with normotensive blood pressures.', '   Continue prescribed medication as ordered.', 'Monitor for symptomatic\\n   rhythm changes.', '[**Last Name **]', 'Problem\\n post surgical intervention', '   Midline abdominal incision with staples.', 'Occasional discomfort to\\n   incision line and right side of abdomen.', '   Incision line cleaned with n/s and covered wtith', 'ABD, patient\\ns gown was\\n   being soiled with drainage from inferior aspect of incision line.', 'On\\n   PCA morphine with basal of 0.5mg/hr 6min lockout and max of 10.5mg/hr.', '   Patinet state he has some tenderness to the right lateral aspect of the\\n   abdomen.', 'Same is tender to touch and with movement.', 'However he did\\n   verbalise an improvement wrt to pain management.', 'Pain is better with\\n   basal rate of 0.5mg/hr', '   Continue to assess for discomfort as needed.', 'Patient continues on\\n   antibiotic therapy as ordered.']\n"
     ]
    }
   ],
   "source": [
    "import os\n",
    "import spacy\n",
    "\n",
    "parent_dir = os.path.abspath(os.path.join(os.getcwd(), '..'))\n",
    "if parent_dir not in sys.path:\n",
    "    sys.path.append(parent_dir)\n",
    "    \n",
    "import utils.nlp_tools as nlp_tools\n",
    "nlp_tools = importlib.reload(nlp_tools)\n",
    "nlp = nlp_tools.TextLib(\"en_core_web_lg\")\n",
    "\n",
    "from resources.abbreviations import abbreviation_dict\n",
    "\n",
    "# Load the English model (download if you haven't: python -m spacy download en_core_web_lg)\n",
    "\n",
    "\n",
    "known_dict = {}\n",
    "def extract_sentences(text):\n",
    "\n",
    "    global known_dict\n",
    "    if text in known_dict:\n",
    "        return known_dict[text]\n",
    "    else:\n",
    "        text = nlp.replace_abbreviations(text,abbreviation_dict)\n",
    "        text = nlp.remove_error_strings(text)\n",
    "        sentences_raw = nlp.sentence_splitter(text,span=False)\n",
    "        sentences = [sent['text'] for sent in sentences_raw]\n",
    "        # headers = [sent['headers'] for sent in sentences_raw]\n",
    "        known_dict[text] = sentences\n",
    "    return sentences \n",
    "\n",
    "# filtered_reports_df = notes[(notes[\"HADM_ID\"].isin(common_hadm)) & (notes[\"CATEGORY\"].isin(selected_categories))]\n",
    "filtered_reports_df = notes_selected\n",
    "print(extract_sentences(filtered_reports_df['TEXT'].iloc[0]))\n",
    "filtered_reports_df.loc[:,'Sentences'] = filtered_reports_df['TEXT'].apply(extract_sentences)\n"
   ]
  },
  {
   "cell_type": "code",
   "execution_count": 14,
   "metadata": {},
   "outputs": [],
   "source": [
    "import os\n",
    "os.makedirs(\"../exports\", exist_ok=True)\n",
    "filtered_reports_df.to_pickle(\"../exports/filtered_patient_reports.pkl\")"
   ]
  }
 ],
 "metadata": {
  "kernelspec": {
   "display_name": ".venv",
   "language": "python",
   "name": "python3"
  },
  "language_info": {
   "codemirror_mode": {
    "name": "ipython",
    "version": 3
   },
   "file_extension": ".py",
   "mimetype": "text/x-python",
   "name": "python",
   "nbconvert_exporter": "python",
   "pygments_lexer": "ipython3",
   "version": "3.9.5"
  }
 },
 "nbformat": 4,
 "nbformat_minor": 2
}
