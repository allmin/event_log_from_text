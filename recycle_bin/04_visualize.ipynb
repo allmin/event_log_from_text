{
 "cells": [
  {
   "cell_type": "code",
   "execution_count": null,
   "id": "b4a0ffa0",
   "metadata": {},
   "outputs": [],
   "source": [
    "import glob\n",
    "import pandas as pd\n",
    "output_file = \"../exports/filtered_patient_reports_with_event_log/combined.pkl\"\n",
    "batch_files = sorted(glob.glob(\"../exports/filtered_patient_reports_with_event_log/batch_*.pkl\"))\n",
    "combined_df = pd.concat([pd.read_pickle(f) for f in batch_files], ignore_index=True)\n",
    "combined_df.to_pickle(output_file)"
   ]
  },
  {
   "cell_type": "code",
   "execution_count": null,
   "id": "1f552926",
   "metadata": {},
   "outputs": [],
   "source": [
    "output_file_embedder = \"../exports/filtered_patient_reports_with_event_log_only_embedders/batch_00000000.pkl\"\n",
    "output_file_llm = \"../exports/filtered_patient_reports_with_event_log copy/batch_00000000.pkl\"\n",
    "df_embedder = pd.read_pickle(output_file_embedder)\n",
    "df_llm = pd.read_pickle(output_file_llm)\n"
   ]
  },
  {
   "cell_type": "code",
   "execution_count": null,
   "id": "abade26b",
   "metadata": {},
   "outputs": [],
   "source": [
    "global_list = []\n",
    "def get_known_events(x):\n",
    "    result = []\n",
    "    for i in x:\n",
    "        event = list(i.values())[0]['event']\n",
    "        event_name = event[0]\n",
    "        similarity = event[1]\n",
    "        sentence = list(i.keys())[0]\n",
    "        if similarity >= 0.2 and similarity <= 2:\n",
    "            summ = {\"sentence\":sentence,\n",
    "                           \"event_name\":event_name,\n",
    "                           \"similarity\":similarity}\n",
    "            result.append(summ)\n",
    "            # print(summ)\n",
    "            global_list.append(summ)\n",
    "    return result\n",
    "\n",
    "\n",
    "    \n",
    "combined_df[\"OnlyEvents\"]=combined_df[\"Events\"].apply(get_known_events)\n",
    "df_summ = pd.DataFrame(global_list)\n",
    "# df_summ['sentence'] = df_summ['sentence'].apply(lambda x: x.strip())\n",
    "df_summ['sentence_copy'] = df_summ['sentence'].str.strip()\n",
    "df_summ['sentence_copy'] = df_summ['sentence_copy'].str.lower()\n",
    "df_summ['sentence_copy'] = df_summ['sentence_copy'].str.rstrip('.')\n",
    "df_summ['sentence_copy'] = df_summ['sentence_copy'].apply(lambda x: x.replace(\"  \",\" \"))\n",
    "df_summ['num_words'] = df_summ['sentence_copy'].apply(lambda x: len(x.split()))\n",
    "df_summ = df_summ[df_summ.num_words >= 2]\n",
    "df_summ.to_excel(\"../exports/temporary_view_0.35to0.37.xlsx\")\n",
    "\n",
    "# # combined_df.to_pickle(output_file)\n",
    "# print(len(df_summ[df_summ.event_name==\"Sleep\"]))\n",
    "# N1 = len(df_summ[df_summ.event_name==\"Sleep\"])\n",
    "print(len(df_summ),len(df_summ[df_summ.duplicated(\"sentence_copy\",keep=\"first\")]))\n",
    "# df_summ[df_summ.duplicated(\"sentence_copy\",keep=\"\")]\n",
    "\n"
   ]
  },
  {
   "cell_type": "code",
   "execution_count": null,
   "id": "c7bd9f78",
   "metadata": {},
   "outputs": [],
   "source": [
    "len(df_summ[df_summ.duplicated(\"sentence_copy\",keep=False)].sort_values(\"sentence_copy\")[\"sentence_copy\"].unique())"
   ]
  },
  {
   "cell_type": "code",
   "execution_count": null,
   "id": "aa3a56eb",
   "metadata": {},
   "outputs": [],
   "source": [
    "sentence_count_df = df_summ[\"sentence_copy\"].value_counts().reset_index()\n",
    "print(sentence_count_df)\n",
    "sentence_count_df.to_excel(\"../exports/frequency_of_sentences.xlsx\")\n",
    "repeated_sentences = sentence_count_df[sentence_count_df['count']>1]\n",
    "non_repeated_sentences = sentence_count_df[sentence_count_df['count']==1]\n",
    "\n",
    "repeated_sentences['count'].sum(), len(repeated_sentences) ,non_repeated_sentences['count'].sum()"
   ]
  },
  {
   "cell_type": "code",
   "execution_count": null,
   "id": "2b57034a",
   "metadata": {},
   "outputs": [],
   "source": [
    "import matplotlib.pyplot as plt\n",
    "plt.bar(sentence_count_df.iloc[:1000].index,sentence_count_df.iloc[:1000]['count'])\n"
   ]
  },
  {
   "cell_type": "code",
   "execution_count": null,
   "id": "f85e957d",
   "metadata": {},
   "outputs": [],
   "source": [
    "\n",
    "def count_term(sentence,search_term=[\"sleep\", \"slept\"]):\n",
    "        return sum(sentence.lower().count(term) for term in search_term)\n",
    "\n",
    "df_summ['Sleep_appears'] = df_summ['sentence'].apply(count_term)\n",
    "\n",
    "\n",
    "df_summ[df_summ['Sleep_appears']>0].to_excel(\"../exports/temporary_view_sleep_appears.xlsx\")\n",
    "df_summ[df_summ['Sleep_appears']==0].to_excel(\"../exports/temporary_view_sleep_does_not_appear.xlsx\")\n",
    "\n",
    "\n",
    "\n",
    "len(df_summ[df_summ.Sleep_appears>0]), sum(df_summ[\"Sleep_appears\"])\n",
    "N2= len(df_summ[df_summ.Sleep_appears>0])\n",
    "\n",
    "print(N1, N2, N2/N1*100)"
   ]
  },
  {
   "cell_type": "code",
   "execution_count": null,
   "id": "0f2ec757",
   "metadata": {},
   "outputs": [],
   "source": [
    "import pandas as pd\n",
    "df = pd.read_excel(\"../exports/combined_event_log_dictionary_biolord.xlsx\")"
   ]
  },
  {
   "cell_type": "code",
   "execution_count": null,
   "id": "44e86a18",
   "metadata": {},
   "outputs": [],
   "source": [
    "df.columns"
   ]
  },
  {
   "cell_type": "code",
   "execution_count": null,
   "id": "011267e4",
   "metadata": {},
   "outputs": [],
   "source": [
    "def value_counts(list_of_dict):\n",
    "    lst = [list]\n",
    "    counts = {}\n",
    "    for item in lst:\n",
    "        counts[item] = counts.get(item, 0) + 1\n",
    "    return counts\n",
    "combined_df[\"EventCounts\"] = combined_df[\"OnlyEvents\"].apply(value_counts)\n",
    "combined_df[\"EventCounts\"]\n"
   ]
  },
  {
   "cell_type": "code",
   "execution_count": null,
   "id": "191f2ff3",
   "metadata": {},
   "outputs": [],
   "source": [
    "\n",
    "combined_df[\"Sleep_count\"] = combined_df[\"EventCounts\"].apply(lambda x: x.get(\"Sleep\",0))\n",
    "combined_df[\"Pain_count\"] = combined_df[\"EventCounts\"].apply(lambda x: x.get(\"Pain\",0))\n",
    "combined_df[\"Others_count\"] = combined_df[\"EventCounts\"].apply(lambda x: x.get(\"Others\",0))"
   ]
  },
  {
   "cell_type": "code",
   "execution_count": null,
   "id": "bb098317",
   "metadata": {},
   "outputs": [],
   "source": [
    "combined_df.describe()\n"
   ]
  },
  {
   "cell_type": "code",
   "execution_count": null,
   "id": "8bdbf10e",
   "metadata": {},
   "outputs": [],
   "source": [
    "from pprint import pprint\n",
    "# pprint(combined_df[combined_df.Sleep_count == 40]['Events'].iloc[0])"
   ]
  },
  {
   "cell_type": "code",
   "execution_count": null,
   "id": "250ccdee",
   "metadata": {},
   "outputs": [],
   "source": [
    "combined_df.to_csv(\"../exports/temporary_view.csv\")"
   ]
  },
  {
   "cell_type": "code",
   "execution_count": null,
   "id": "95c19cab",
   "metadata": {},
   "outputs": [],
   "source": [
    "len(combined_df[combined_df.Sleep_count == 40]['Events'].iloc[0])"
   ]
  },
  {
   "cell_type": "code",
   "execution_count": null,
   "id": "72a5f554",
   "metadata": {},
   "outputs": [],
   "source": [
    "combined_df[combined_df.Sleep_count == 40]['Events'].to_excel(\"../exports/temporary_view.xlsx\")"
   ]
  },
  {
   "cell_type": "code",
   "execution_count": null,
   "id": "b354a203",
   "metadata": {},
   "outputs": [],
   "source": [
    "from pprint import pprint\n",
    "pprint(combined_df[combined_df.Sleep_count == 40]['Events'].iloc[0])"
   ]
  },
  {
   "cell_type": "code",
   "execution_count": null,
   "id": "8786a918",
   "metadata": {},
   "outputs": [],
   "source": [
    "combined_df.groupby(\"HADM_ID\")[['Sleep_count', 'Pain_count']].sum().reset_index().describe()"
   ]
  },
  {
   "cell_type": "code",
   "execution_count": null,
   "id": "8f5666c5",
   "metadata": {},
   "outputs": [],
   "source": [
    "import pandas as pd\n",
    "from pprint import pprint\n",
    "import glob\n",
    "import pandas as pd\n",
    "pd.set_option('display.max_rows', None)\n",
    "\n",
    "for model_type in [\"dictionary\", \"biolord\"]:\n",
    "    output_folder = f\"../exports/selected_reports_with_event_log_only_{model_type}\"\n",
    "    output_file = f\"{output_folder}/combined.pkl\"\n",
    "    batch_files = sorted(glob.glob(f\"{output_folder}/batch_*.pkl\"))\n",
    "    combined_df = pd.concat([pd.read_pickle(f) for f in batch_files], ignore_index=True)\n",
    "    combined_df.to_pickle(output_file)\n",
    "\n",
    "def prepare_df(df, type=\"biolord\"):\n",
    "    df = df.copy()\n",
    "    df['Sent_ID'] = df['Events'].apply(lambda x: [i for i in range(len(x))])\n",
    "    df = df.explode([\"Sent_ID\",\"Events\"])\n",
    "    df['Event_Name'] = df['Events'].apply(lambda x: x['event'])\n",
    "    df['Sentence'] = df['Events'].apply(lambda x: x['sentence'])\n",
    "    \n",
    "    if type == \"dictionary\":\n",
    "        df['Keyword'] = df['Events'].apply(lambda x: x['keyword'])\n",
    "    if type == \"biolord\":\n",
    "        df['Similarity'] = df['Events'].apply(lambda x: x['similarity'])\n",
    "        df[\"Sleep_similarity\"] = df['Similarity'].apply(lambda x:x[\"Sleep\"])\n",
    "        df[\"Pain_similarity\"] = df['Similarity'].apply(lambda x:x[\"Pain\"])\n",
    "        df[\"Excretion_similarity\"] = df['Similarity'].apply(lambda x:x[\"Excretion\"])\n",
    "        df[\"Eating_similarity\"] = df['Similarity'].apply(lambda x:x[\"Eating\"])\n",
    "        df[\"Family_similarity\"] = df['Similarity'].apply(lambda x:x[\"Family\"])\n",
    "        df[\"Alertness_similarity\"] = df['Similarity'].apply(lambda x:x[\"Alert And Oriented\"])\n",
    "    return df\n",
    "df_dictionary = prepare_df(pd.read_pickle(\"../exports/selected_reports_with_event_log_only_dictionary/combined.pkl\"),type=\"dictionary\")\n",
    "df_biolord = prepare_df(pd.read_pickle(\"../exports/selected_reports_with_event_log_only_biolord/combined.pkl\"), type = \"biolord\")\n",
    "\n",
    "\n",
    "\n",
    "# pprint(df1.iloc[0].to_string())\n"
   ]
  },
  {
   "cell_type": "code",
   "execution_count": null,
   "id": "01dce2e6",
   "metadata": {},
   "outputs": [],
   "source": [
    "len(df_biolord), len(df_dictionary)"
   ]
  },
  {
   "cell_type": "code",
   "execution_count": null,
   "id": "a6d659e8",
   "metadata": {},
   "outputs": [],
   "source": [
    "df_dictionary.columns"
   ]
  },
  {
   "cell_type": "code",
   "execution_count": null,
   "id": "412764fe",
   "metadata": {},
   "outputs": [],
   "source": [
    "df_dictionary.Event_Name.value_counts()"
   ]
  },
  {
   "cell_type": "code",
   "execution_count": null,
   "id": "1651cefa",
   "metadata": {},
   "outputs": [],
   "source": [
    "df_biolord.Sleep_similarity.hist()"
   ]
  },
  {
   "cell_type": "code",
   "execution_count": null,
   "id": "ab1ebc19",
   "metadata": {},
   "outputs": [],
   "source": [
    "df_biolord[df_biolord.Event_Name==\"Sleep\"].Sleep_similarity.hist()"
   ]
  },
  {
   "cell_type": "code",
   "execution_count": null,
   "id": "174ee80a",
   "metadata": {},
   "outputs": [],
   "source": [
    "12*3600/567000"
   ]
  },
  {
   "cell_type": "code",
   "execution_count": null,
   "id": "f73f0b42",
   "metadata": {},
   "outputs": [],
   "source": [
    "df_dictionary.to_excel(\"../exports/selected_reports_with_event_log_only_dictionary/combined.xlsx\", index=False)"
   ]
  },
  {
   "cell_type": "code",
   "execution_count": null,
   "id": "2f0375df",
   "metadata": {},
   "outputs": [],
   "source": [
    "df_dictionary.columns, df_biolord.columns\n",
    "df_biolord.Similarity = df_biolord.Similarity.astype(str)\n",
    "df_both = pd.merge(df_dictionary[['ROW_ID','Sent_ID','HADM_ID','CHARTTIME','STORETIME','Sentence','Event_Name','Keyword','CGID']], \n",
    "         df_biolord[['ROW_ID','Sent_ID','HADM_ID','CHARTTIME','STORETIME','Sentence','Event_Name','CGID','Eating_similarity', 'Excretion_similarity', 'Family_similarity', 'Alertness_similarity', 'Pain_similarity', 'Sleep_similarity']], \n",
    "         on=['HADM_ID','ROW_ID','Sent_ID'], how='outer',suffixes=(\"_dictionary\",\"_biolord\")).sort_values(by=['HADM_ID','ROW_ID','Sent_ID'])"
   ]
  },
  {
   "cell_type": "code",
   "execution_count": null,
   "id": "626e5698",
   "metadata": {},
   "outputs": [],
   "source": [
    "temp = df_dictionary[\"Event_Name_tuple\"].value_counts().reset_index()\n",
    "# temp\n",
    "temp[temp.Event_Name_tuple != (\"Unknown\",)].sum(),temp[temp.Event_Name_tuple == (\"Unknown\",)].sum()\n"
   ]
  },
  {
   "cell_type": "code",
   "execution_count": null,
   "id": "21ab6510",
   "metadata": {},
   "outputs": [],
   "source": []
  },
  {
   "cell_type": "code",
   "execution_count": null,
   "id": "cbdca386",
   "metadata": {},
   "outputs": [],
   "source": [
    "# df_biolord.to_excel(\"../exports/combined_event_log_dictionary_biolord.xlsx\", index=False)"
   ]
  },
  {
   "cell_type": "code",
   "execution_count": null,
   "id": "e89d7b85",
   "metadata": {},
   "outputs": [],
   "source": [
    "df_dictionary.columns"
   ]
  },
  {
   "cell_type": "code",
   "execution_count": null,
   "id": "da2f5862",
   "metadata": {},
   "outputs": [],
   "source": [
    "df_dictionary['Event_Name_tuple'] = df_dictionary['Event_Name'].apply(tuple)\n",
    "df_dictionary['Keyword_tuple'] = df_dictionary['Keyword'].apply(tuple)\n"
   ]
  },
  {
   "cell_type": "code",
   "execution_count": null,
   "id": "7d7da2f5",
   "metadata": {},
   "outputs": [],
   "source": [
    "df_dictionary['Event_Name_tuple'] "
   ]
  },
  {
   "cell_type": "code",
   "execution_count": null,
   "id": "d09c7e13",
   "metadata": {},
   "outputs": [],
   "source": [
    "df_dictionary"
   ]
  },
  {
   "cell_type": "code",
   "execution_count": null,
   "id": "6b1d0c73",
   "metadata": {},
   "outputs": [],
   "source": [
    "df_dictionary[['Event_Name_tuple','Keyword_tuple']].value_counts().reset_index().sort_values(by=(\"Event_Name_tuple\",'Keyword_tuple'),ascending=True)"
   ]
  },
  {
   "cell_type": "code",
   "execution_count": null,
   "id": "931ddc4e",
   "metadata": {},
   "outputs": [],
   "source": [
    "df_dictionary[['Event_Name_tuple','Keyword_tuple']].value_counts().reset_index()"
   ]
  },
  {
   "cell_type": "code",
   "execution_count": null,
   "id": "d82b9dde",
   "metadata": {},
   "outputs": [],
   "source": [
    "df_dictionary['Event_Name'].iloc[0]"
   ]
  },
  {
   "cell_type": "code",
   "execution_count": null,
   "id": "43c4c8d9",
   "metadata": {},
   "outputs": [],
   "source": [
    "df_dictionary.head(10)"
   ]
  },
  {
   "cell_type": "code",
   "execution_count": null,
   "id": "506d8287",
   "metadata": {},
   "outputs": [],
   "source": [
    "import re\n",
    "def remove_illegal_chars(val):\n",
    "    if isinstance(val, str):\n",
    "        # Remove characters disallowed in Excel\n",
    "        return re.sub(r\"[\\x00-\\x08\\x0B\\x0C\\x0E-\\x1F]\", \"\", val)\n",
    "    return val\n",
    "\n",
    "# Apply to all string cells\n",
    "df_both_clean = df_both.applymap(remove_illegal_chars)\n",
    "df_both.to_excel(\"../exports/combined_event_log_dictionary_biolord.xlsx\", index=False)"
   ]
  },
  {
   "cell_type": "code",
   "execution_count": null,
   "id": "f14f54e0",
   "metadata": {},
   "outputs": [],
   "source": [
    "\n",
    "df_dictionary[['Event_Name','Keyword']].value_counts().reset_index().sort_values(by=['Event_Name', 'count'], ascending =[True,False])"
   ]
  },
  {
   "cell_type": "code",
   "execution_count": null,
   "id": "76f07dcc",
   "metadata": {},
   "outputs": [],
   "source": [
    "# df_dictionary[df_dictionary['Event_Name']==\"Alert and Oriented\"][\"Sentences\"]\n",
    "df_dictionary[['Event_Name', 'Keyword']].value_counts()"
   ]
  },
  {
   "cell_type": "code",
   "execution_count": null,
   "id": "9a037ce1",
   "metadata": {},
   "outputs": [],
   "source": [
    "df_dictionary[(df_dictionary.Event_Name==\"Others\")&(df_dictionary.Keyword == \"family\")]\t"
   ]
  }
 ],
 "metadata": {
  "kernelspec": {
   "display_name": ".venv",
   "language": "python",
   "name": "python3"
  },
  "language_info": {
   "codemirror_mode": {
    "name": "ipython",
    "version": 3
   },
   "file_extension": ".py",
   "mimetype": "text/x-python",
   "name": "python",
   "nbconvert_exporter": "python",
   "pygments_lexer": "ipython3",
   "version": "3.12.1"
  }
 },
 "nbformat": 4,
 "nbformat_minor": 5
}
