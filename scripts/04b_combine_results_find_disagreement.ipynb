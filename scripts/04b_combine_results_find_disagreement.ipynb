{
 "cells": [
  {
   "cell_type": "code",
   "execution_count": 6,
   "id": "53856441",
   "metadata": {},
   "outputs": [],
   "source": [
    "import pandas as pd\n",
    "from pprint import pprint\n",
    "import glob\n",
    "import pandas as pd\n",
    "pd.set_option('display.max_rows', None)\n",
    "# jupyter nbconvert --to script 04b_combine_results_find_disagreement.ipynb\n",
    "\n",
    "for model_type in [\"dictionary\", \"biolord\"]:\n",
    "    output_folder = f\"../exports/selected_reports_with_event_log_only_{model_type}\"\n",
    "    output_file = f\"{output_folder}/combined.pkl\"\n",
    "    batch_files = sorted(glob.glob(f\"{output_folder}/batch_*.pkl\"))\n",
    "    combined_df = pd.concat([pd.read_pickle(f) for f in batch_files], ignore_index=True)\n",
    "    combined_df.to_pickle(output_file)\n",
    "   \n",
    "\n",
    "def prepare_df(df, type=\"biolord\"):\n",
    "    df = df.copy()\n",
    "    df['Sent_ID'] = df['Events'].apply(lambda x: [i for i in range(len(x))])\n",
    "    df['UID'] = df['ROW_ID'].astype(str) + \"_\" + df['Sent_ID'].astype(str)\n",
    "    df = df.explode([\"Sent_ID\",\"Events\"])\n",
    "    df = df.dropna(subset=\"Events\")\n",
    "    df['Event_Name'] = df['Events'].apply(lambda x: x['event'])\n",
    "    df['Sentence'] = df['Events'].apply(lambda x: x['sentence'])\n",
    "    df['Time'] = df['Events'].apply(lambda x: x['event_detection_time'])\n",
    "    \n",
    "    if type == \"dictionary\":\n",
    "        df['Keyword'] = df['Events'].apply(lambda x: x['keyword'])\n",
    "    if type == \"biolord\":\n",
    "        df['Similarity'] = df['Events'].apply(lambda x: x['similarity'])\n",
    "        df['Similarity'] = df['Similarity'].apply(lambda x: {k:v for (k,v) in x.items() if k!=\"Alert And Oriented\"})\n",
    "        df[\"Sleep_similarity\"] = df['Similarity'].apply(lambda x:x[\"Sleep\"])\n",
    "        df[\"Pain_similarity\"] = df['Similarity'].apply(lambda x:x[\"Pain\"])\n",
    "        df[\"Excretion_similarity\"] = df['Similarity'].apply(lambda x:x[\"Excretion\"])\n",
    "        df[\"Eating_similarity\"] = df['Similarity'].apply(lambda x:x[\"Eating\"])\n",
    "        df[\"Family_similarity\"] = df['Similarity'].apply(lambda x:x[\"Family\"])\n",
    "        # df[\"Alert And Oriented_similarity\"] = df['Similarity'].apply(lambda x:x[\"Alert And Oriented\"])\n",
    "    return df\n",
    "df_dictionary = prepare_df(pd.read_pickle(\"../exports/selected_reports_with_event_log_only_dictionary/combined.pkl\"),type=\"dictionary\")\n",
    "df_biolord = prepare_df(pd.read_pickle(\"../exports/selected_reports_with_event_log_only_biolord/combined.pkl\"), type = \"biolord\")\n",
    "\n",
    "\n",
    "\n",
    "\n"
   ]
  },
  {
   "cell_type": "code",
   "execution_count": 7,
   "id": "95520eec",
   "metadata": {},
   "outputs": [
    {
     "data": {
      "text/plain": [
       "(15223, 338395)"
      ]
     },
     "execution_count": 7,
     "metadata": {},
     "output_type": "execute_result"
    }
   ],
   "source": [
    "pdf = pd.read_pickle(\"../exports/selected_reports_with_event_log_only_dictionary/combined.pkl\")\n",
    "len(pdf), len(prepare_df(pdf,\"dictionary\"))"
   ]
  },
  {
   "cell_type": "code",
   "execution_count": 8,
   "id": "14a13cb5",
   "metadata": {},
   "outputs": [],
   "source": [
    "# df_biolord.Similarity = df_biolord.Similarity.astype(str)\n",
    "df_both = pd.merge(df_dictionary[['ROW_ID','Sent_ID','HADM_ID','CHARTTIME','STORETIME','Sentence','Event_Name','Keyword','CGID','Time']], \n",
    "         df_biolord[['ROW_ID','Sent_ID','HADM_ID','CHARTTIME','STORETIME','Sentence','Event_Name','CGID','Similarity','Eating_similarity', 'Excretion_similarity', 'Family_similarity', 'Pain_similarity', 'Sleep_similarity','Time']], \n",
    "         on=['HADM_ID','ROW_ID','Sent_ID'], how='outer',suffixes=(\"_dictionary\",\"_biolord\")).sort_values(by=['HADM_ID','ROW_ID','Sent_ID'])\n",
    "event_types = [\"Pain\", \"Sleep\", \"Excretion\", \"Eating\", \"Family\"]\n",
    "df_both[\"Event_Name_dictionary_multi\"] = df_both[\"Event_Name_dictionary\"].apply(lambda x: {i: x.count(i) if isinstance(x, list) else 0 for i in event_types})\n"
   ]
  },
  {
   "cell_type": "code",
   "execution_count": 9,
   "id": "5a0c82f1",
   "metadata": {},
   "outputs": [
    {
     "data": {
      "text/plain": [
       "(338395, 338395, 338395)"
      ]
     },
     "execution_count": 9,
     "metadata": {},
     "output_type": "execute_result"
    }
   ],
   "source": [
    "len(df_dictionary), len(df_biolord), len(df_both)"
   ]
  },
  {
   "cell_type": "code",
   "execution_count": null,
   "id": "c76a7eb1",
   "metadata": {},
   "outputs": [
    {
     "ename": "ValueError",
     "evalue": "Invalid format specifier '0.2f%' for object of type 'float'",
     "output_type": "error",
     "traceback": [
      "\u001b[31m---------------------------------------------------------------------------\u001b[39m",
      "\u001b[31mValueError\u001b[39m                                Traceback (most recent call last)",
      "\u001b[36mCell\u001b[39m\u001b[36m \u001b[39m\u001b[32mIn[46]\u001b[39m\u001b[32m, line 84\u001b[39m\n\u001b[32m     81\u001b[39m         df_sel = df_both[df_both[\u001b[33m\"\u001b[39m\u001b[33mEvent_Name_dictionary\u001b[39m\u001b[33m\"\u001b[39m].apply(\u001b[38;5;28;01mlambda\u001b[39;00m x: event_type \u001b[38;5;129;01mnot\u001b[39;00m \u001b[38;5;129;01min\u001b[39;00m x \u001b[38;5;129;01mand\u001b[39;00m \u001b[33m\"\u001b[39m\u001b[33m_\u001b[39m\u001b[33m\"\u001b[39m.join(\u001b[38;5;28mset\u001b[39m(x))!=\u001b[33m'\u001b[39m\u001b[33mUnknown\u001b[39m\u001b[33m'\u001b[39m )]\n\u001b[32m     82\u001b[39m     counts, _ = np.histogram(df_sel[\u001b[33mf\u001b[39m\u001b[33m\"\u001b[39m\u001b[38;5;132;01m{\u001b[39;00mevent_type\u001b[38;5;132;01m}\u001b[39;00m\u001b[33m_similarity\u001b[39m\u001b[33m\"\u001b[39m].dropna(), bins=bin_edges)\n\u001b[32m---> \u001b[39m\u001b[32m84\u001b[39m     \u001b[43mplot_axis\u001b[49m\u001b[43m(\u001b[49m\u001b[43mcounts\u001b[49m\u001b[43m,\u001b[49m\u001b[43m \u001b[49m\u001b[43mi\u001b[49m\u001b[43m,\u001b[49m\u001b[43m \u001b[49m\u001b[43max\u001b[49m\u001b[43m,\u001b[49m\u001b[43m \u001b[49m\u001b[43mcolumn\u001b[49m\u001b[43m,\u001b[49m\u001b[43m \u001b[49m\u001b[43mnum_bins\u001b[49m\u001b[43m,\u001b[49m\u001b[43m \u001b[49m\u001b[43mbin_edges\u001b[49m\u001b[43m)\u001b[49m\n\u001b[32m     86\u001b[39m \u001b[38;5;66;03m# Add title and x label\u001b[39;00m\n\u001b[32m     87\u001b[39m axes[\u001b[32m0\u001b[39m].set_title(\u001b[33m\"\u001b[39m\u001b[33m1D Heatmap Histograms of Similarities\u001b[39m\u001b[33m\"\u001b[39m)\n",
      "\u001b[36mCell\u001b[39m\u001b[36m \u001b[39m\u001b[32mIn[46]\u001b[39m\u001b[32m, line 18\u001b[39m, in \u001b[36mplot_axis\u001b[39m\u001b[34m(counts, i, ax, column, num_bins, bin_edges)\u001b[39m\n\u001b[32m      6\u001b[39m \u001b[38;5;28;01mdef\u001b[39;00m\u001b[38;5;250m \u001b[39m\u001b[34mplot_axis\u001b[39m(counts, i, ax, column, num_bins, bin_edges):\n\u001b[32m      7\u001b[39m     \u001b[38;5;66;03m# Plot 1D heatmap\u001b[39;00m\n\u001b[32m      8\u001b[39m     \u001b[38;5;66;03m# sns.heatmap(\u001b[39;00m\n\u001b[32m   (...)\u001b[39m\u001b[32m     14\u001b[39m     \u001b[38;5;66;03m#     yticklabels=False\u001b[39;00m\n\u001b[32m     15\u001b[39m     \u001b[38;5;66;03m# )\u001b[39;00m\n\u001b[32m     16\u001b[39m     norm_counts = counts / counts.sum() * \u001b[32m100\u001b[39m\n\u001b[32m---> \u001b[39m\u001b[32m18\u001b[39m     \u001b[43msns\u001b[49m\u001b[43m.\u001b[49m\u001b[43mheatmap\u001b[49m\u001b[43m(\u001b[49m\n\u001b[32m     19\u001b[39m \u001b[43m    \u001b[49m\u001b[43m[\u001b[49m\u001b[43mnorm_counts\u001b[49m\u001b[43m]\u001b[49m\u001b[43m,\u001b[49m\n\u001b[32m     20\u001b[39m \u001b[43m    \u001b[49m\u001b[43max\u001b[49m\u001b[43m=\u001b[49m\u001b[43max\u001b[49m\u001b[43m,\u001b[49m\n\u001b[32m     21\u001b[39m \u001b[43m    \u001b[49m\u001b[43mcmap\u001b[49m\u001b[43m=\u001b[49m\u001b[33;43m\"\u001b[39;49m\u001b[33;43mcividis\u001b[39;49m\u001b[33;43m\"\u001b[39;49m\u001b[43m,\u001b[49m\n\u001b[32m     22\u001b[39m \u001b[43m    \u001b[49m\u001b[43mcbar\u001b[49m\u001b[43m=\u001b[49m\u001b[38;5;28;43;01mFalse\u001b[39;49;00m\u001b[43m,\u001b[49m\n\u001b[32m     23\u001b[39m \u001b[43m    \u001b[49m\u001b[43mxticklabels\u001b[49m\u001b[43m=\u001b[49m\u001b[38;5;28;43;01mFalse\u001b[39;49;00m\u001b[43m \u001b[49m\u001b[38;5;28;43;01mif\u001b[39;49;00m\u001b[43m \u001b[49m\u001b[43mi\u001b[49m\u001b[43m \u001b[49m\u001b[43m<\u001b[49m\u001b[43m \u001b[49m\u001b[38;5;28;43mlen\u001b[39;49m\u001b[43m(\u001b[49m\u001b[43msimilarity_columns\u001b[49m\u001b[43m)\u001b[49m\u001b[43m \u001b[49m\u001b[43m-\u001b[49m\u001b[43m \u001b[49m\u001b[32;43m1\u001b[39;49m\u001b[43m \u001b[49m\u001b[38;5;28;43;01melse\u001b[39;49;00m\u001b[43m \u001b[49m\u001b[38;5;28;43;01mTrue\u001b[39;49;00m\u001b[43m,\u001b[49m\n\u001b[32m     24\u001b[39m \u001b[43m    \u001b[49m\u001b[43myticklabels\u001b[49m\u001b[43m=\u001b[49m\u001b[38;5;28;43;01mFalse\u001b[39;49;00m\u001b[43m,\u001b[49m\n\u001b[32m     25\u001b[39m \u001b[43m    \u001b[49m\u001b[43mannot\u001b[49m\u001b[43m=\u001b[49m\u001b[43m[\u001b[49m\u001b[43mnorm_counts\u001b[49m\u001b[43m]\u001b[49m\u001b[43m,\u001b[49m\u001b[43m                 \u001b[49m\u001b[38;5;66;43;03m# Annotations need to match the shape of data (1 row)\u001b[39;49;00m\n\u001b[32m     26\u001b[39m \u001b[43m    \u001b[49m\u001b[43mfmt\u001b[49m\u001b[43m=\u001b[49m\u001b[33;43m'\u001b[39;49m\u001b[33;43m0.2f\u001b[39;49m\u001b[33;43m'\u001b[39;49m\u001b[43m+\u001b[49m\u001b[33;43m\"\u001b[39;49m\u001b[33;43m%\u001b[39;49m\u001b[33;43m\"\u001b[39;49m\u001b[43m,\u001b[49m\u001b[43m                        \u001b[49m\u001b[38;5;66;43;03m# Integer format\u001b[39;49;00m\n\u001b[32m     27\u001b[39m \u001b[43m    \u001b[49m\u001b[43mannot_kws\u001b[49m\u001b[43m=\u001b[49m\u001b[43m{\u001b[49m\u001b[33;43m\"\u001b[39;49m\u001b[33;43msize\u001b[39;49m\u001b[33;43m\"\u001b[39;49m\u001b[43m:\u001b[49m\u001b[43m \u001b[49m\u001b[32;43m6\u001b[39;49m\u001b[43m,\u001b[49m\u001b[43m \u001b[49m\u001b[33;43m\"\u001b[39;49m\u001b[33;43mcolor\u001b[39;49m\u001b[33;43m\"\u001b[39;49m\u001b[43m:\u001b[49m\u001b[43m \u001b[49m\u001b[33;43m\"\u001b[39;49m\u001b[33;43mblack\u001b[39;49m\u001b[33;43m\"\u001b[39;49m\u001b[43m,\u001b[49m\u001b[43m \u001b[49m\u001b[33;43m\"\u001b[39;49m\u001b[33;43mrotation\u001b[39;49m\u001b[33;43m\"\u001b[39;49m\u001b[43m:\u001b[49m\u001b[43m \u001b[49m\u001b[32;43m90\u001b[39;49m\u001b[43m,\u001b[49m\u001b[43m \u001b[49m\u001b[33;43m\"\u001b[39;49m\u001b[33;43mva\u001b[39;49m\u001b[33;43m\"\u001b[39;49m\u001b[43m:\u001b[49m\u001b[43m \u001b[49m\u001b[33;43m\"\u001b[39;49m\u001b[33;43mcenter\u001b[39;49m\u001b[33;43m\"\u001b[39;49m\u001b[43m,\u001b[49m\u001b[43m \u001b[49m\u001b[33;43m\"\u001b[39;49m\u001b[33;43mha\u001b[39;49m\u001b[33;43m\"\u001b[39;49m\u001b[43m:\u001b[49m\u001b[43m \u001b[49m\u001b[33;43m\"\u001b[39;49m\u001b[33;43mcenter\u001b[39;49m\u001b[33;43m\"\u001b[39;49m\u001b[43m}\u001b[49m\u001b[43m  \u001b[49m\u001b[38;5;66;43;03m# Styling\u001b[39;49;00m\n\u001b[32m     28\u001b[39m \u001b[43m)\u001b[49m\n\u001b[32m     29\u001b[39m     \u001b[38;5;28;01mif\u001b[39;00m i%\u001b[32m2\u001b[39m==\u001b[32m0\u001b[39m:\n\u001b[32m     30\u001b[39m         pref = \u001b[33m\"\u001b[39m\u001b[33mW\u001b[39m\u001b[33m\"\u001b[39m\n",
      "\u001b[36mFile \u001b[39m\u001b[32m~/.local/lib/python3.12/site-packages/seaborn/matrix.py:459\u001b[39m, in \u001b[36mheatmap\u001b[39m\u001b[34m(data, vmin, vmax, cmap, center, robust, annot, fmt, annot_kws, linewidths, linecolor, cbar, cbar_kws, cbar_ax, square, xticklabels, yticklabels, mask, ax, **kwargs)\u001b[39m\n\u001b[32m    457\u001b[39m \u001b[38;5;28;01mif\u001b[39;00m square:\n\u001b[32m    458\u001b[39m     ax.set_aspect(\u001b[33m\"\u001b[39m\u001b[33mequal\u001b[39m\u001b[33m\"\u001b[39m)\n\u001b[32m--> \u001b[39m\u001b[32m459\u001b[39m \u001b[43mplotter\u001b[49m\u001b[43m.\u001b[49m\u001b[43mplot\u001b[49m\u001b[43m(\u001b[49m\u001b[43max\u001b[49m\u001b[43m,\u001b[49m\u001b[43m \u001b[49m\u001b[43mcbar_ax\u001b[49m\u001b[43m,\u001b[49m\u001b[43m \u001b[49m\u001b[43mkwargs\u001b[49m\u001b[43m)\u001b[49m\n\u001b[32m    460\u001b[39m \u001b[38;5;28;01mreturn\u001b[39;00m ax\n",
      "\u001b[36mFile \u001b[39m\u001b[32m~/.local/lib/python3.12/site-packages/seaborn/matrix.py:352\u001b[39m, in \u001b[36m_HeatMapper.plot\u001b[39m\u001b[34m(self, ax, cax, kws)\u001b[39m\n\u001b[32m    350\u001b[39m \u001b[38;5;66;03m# Annotate the cells with the formatted values\u001b[39;00m\n\u001b[32m    351\u001b[39m \u001b[38;5;28;01mif\u001b[39;00m \u001b[38;5;28mself\u001b[39m.annot:\n\u001b[32m--> \u001b[39m\u001b[32m352\u001b[39m     \u001b[38;5;28;43mself\u001b[39;49m\u001b[43m.\u001b[49m\u001b[43m_annotate_heatmap\u001b[49m\u001b[43m(\u001b[49m\u001b[43max\u001b[49m\u001b[43m,\u001b[49m\u001b[43m \u001b[49m\u001b[43mmesh\u001b[49m\u001b[43m)\u001b[49m\n",
      "\u001b[36mFile \u001b[39m\u001b[32m~/.local/lib/python3.12/site-packages/seaborn/matrix.py:260\u001b[39m, in \u001b[36m_HeatMapper._annotate_heatmap\u001b[39m\u001b[34m(self, ax, mesh)\u001b[39m\n\u001b[32m    258\u001b[39m lum = relative_luminance(color)\n\u001b[32m    259\u001b[39m text_color = \u001b[33m\"\u001b[39m\u001b[33m.15\u001b[39m\u001b[33m\"\u001b[39m \u001b[38;5;28;01mif\u001b[39;00m lum > \u001b[32m.408\u001b[39m \u001b[38;5;28;01melse\u001b[39;00m \u001b[33m\"\u001b[39m\u001b[33mw\u001b[39m\u001b[33m\"\u001b[39m\n\u001b[32m--> \u001b[39m\u001b[32m260\u001b[39m annotation = \u001b[43m(\u001b[49m\u001b[33;43m\"\u001b[39;49m\u001b[33;43m{\u001b[39;49m\u001b[33;43m:\u001b[39;49m\u001b[33;43m\"\u001b[39;49m\u001b[43m \u001b[49m\u001b[43m+\u001b[49m\u001b[43m \u001b[49m\u001b[38;5;28;43mself\u001b[39;49m\u001b[43m.\u001b[49m\u001b[43mfmt\u001b[49m\u001b[43m \u001b[49m\u001b[43m+\u001b[49m\u001b[43m \u001b[49m\u001b[33;43m\"\u001b[39;49m\u001b[33;43m}\u001b[39;49m\u001b[33;43m\"\u001b[39;49m\u001b[43m)\u001b[49m\u001b[43m.\u001b[49m\u001b[43mformat\u001b[49m\u001b[43m(\u001b[49m\u001b[43mval\u001b[49m\u001b[43m)\u001b[49m\n\u001b[32m    261\u001b[39m text_kwargs = \u001b[38;5;28mdict\u001b[39m(color=text_color, ha=\u001b[33m\"\u001b[39m\u001b[33mcenter\u001b[39m\u001b[33m\"\u001b[39m, va=\u001b[33m\"\u001b[39m\u001b[33mcenter\u001b[39m\u001b[33m\"\u001b[39m)\n\u001b[32m    262\u001b[39m text_kwargs.update(\u001b[38;5;28mself\u001b[39m.annot_kws)\n",
      "\u001b[31mValueError\u001b[39m: Invalid format specifier '0.2f%' for object of type 'float'"
     ]
    },
    {
     "data": {
      "image/png": "[encoded data removed]",
      "text/plain": [
       "<Figure size 1200x800 with 10 Axes>"
      ]
     },
     "metadata": {},
     "output_type": "display_data"
    }
   ],
   "source": [
    "import seaborn as sns\n",
    "import numpy as np\n",
    "import matplotlib.pyplot as plt\n",
    "\n",
    "\n",
    "def plot_axis(counts, i, ax, column, num_bins, bin_edges):\n",
    "    # Plot 1D heatmap\n",
    "    # sns.heatmap(\n",
    "    #     [counts],\n",
    "    #     ax=ax,\n",
    "    #     cmap=\"viridis\",\n",
    "    #     cbar=False,\n",
    "    #     xticklabels=False if i < len(similarity_columns) - 1 else True,\n",
    "    #     yticklabels=False\n",
    "    # )\n",
    "    norm_counts = counts / counts.sum() * 100\n",
    "\n",
    "    sns.heatmap(\n",
    "    [norm_counts],\n",
    "    ax=ax,\n",
    "    cmap=\"cividis\",\n",
    "    cbar=False,\n",
    "    xticklabels=False if i < len(similarity_columns) - 1 else True,\n",
    "    yticklabels=False,\n",
    "    annot=[norm_counts],                 # Annotations need to match the shape of data (1 row)\n",
    "    fmt='0.2f',                        # Integer format\n",
    "    annot_kws={\"size\": 6, \"color\": \"black\", \"rotation\": 90, \"va\": \"center\", \"ha\": \"center\"}  # Styling\n",
    ")\n",
    "    if i%2==0:\n",
    "        pref = \"W\"\n",
    "    else:\n",
    "        pref = \"W/o\"\n",
    "    # Label each heatmap\n",
    "    ax.set_ylabel(f\"{pref} {column} KW \\n Total:{counts.sum()}\", rotation=0, labelpad=50, va='center')\n",
    "    ax.set_yticks([])\n",
    "\n",
    "    # Only format x-ticks for the bottom axis\n",
    "    if i == 9:\n",
    "        # Compute bin centers\n",
    "        bin_centers = (bin_edges[:-1] + bin_edges[1:]) / 2\n",
    "\n",
    "        # Choose a few bin positions to label\n",
    "        tick_indices = np.linspace(0, num_bins - 1, 25).astype(int)\n",
    "        tick_labels = [f\"{bin_centers[j]:.2f}\" for j in tick_indices]\n",
    "\n",
    "        # Now set ticks and labels\n",
    "        ax.set_xticks(tick_indices)\n",
    "        ax.set_xticklabels(tick_labels, rotation=90, ha=\"right\")\n",
    "\n",
    "\n",
    "# Similarity columns to plot\n",
    "similarity_columns = [\n",
    "    \"Eating\",\n",
    "    \"Excretion\",\n",
    "    \"Family\",\n",
    "    \"Pain\",\n",
    "    \"Sleep\"\n",
    "]\n",
    "\n",
    "# Compute global min and max for consistent binning\n",
    "all_values = np.concatenate([df_both[f\"{col}_similarity\"].dropna().values for col in similarity_columns])\n",
    "global_min, global_max = all_values.min(), all_values.max()\n",
    "\n",
    "# Define consistent bins\n",
    "num_bins = 50\n",
    "bin_edges = np.linspace(global_min, global_max, num_bins + 1)\n",
    "\n",
    "# Create subplots\n",
    "fig, axes = plt.subplots(\n",
    "    nrows=len(similarity_columns)*2,\n",
    "    figsize=(12, 8),\n",
    "    sharex=True\n",
    ")\n",
    "\n",
    "for i, ax in enumerate(axes):\n",
    "    column = similarity_columns[i//2]\n",
    "    event_type = column\n",
    "    if i%2 == 0:\n",
    "        df_sel = df_both[df_both[\"Event_Name_dictionary\"].apply(lambda x: \"_\".join(set(x)) == event_type )]\n",
    "    else:\n",
    "        df_sel = df_both[df_both[\"Event_Name_dictionary\"].apply(lambda x: event_type not in x and \"_\".join(set(x))!='Unknown' )]\n",
    "    counts, _ = np.histogram(df_sel[f\"{event_type}_similarity\"].dropna(), bins=bin_edges)\n",
    "\n",
    "    plot_axis(counts, i, ax, column, num_bins, bin_edges)\n",
    "\n",
    "# Add title and x label\n",
    "axes[0].set_title(\"1D Heatmap Histograms of Similarities\")\n",
    "axes[-1].set_xlabel(\"Similarities with Corresponding Event Types\")\n",
    "\n",
    "plt.tight_layout()\n",
    "plt.show()\n"
   ]
  },
  {
   "cell_type": "code",
   "execution_count": 39,
   "id": "7d8f170d",
   "metadata": {},
   "outputs": [
    {
     "data": {
      "text/plain": [
       "(Index(['ROW_ID', 'Sent_ID', 'HADM_ID', 'CHARTTIME_dictionary',\n",
       "        'STORETIME_dictionary', 'Sentence_dictionary', 'Event_Name_dictionary',\n",
       "        'Keyword', 'CGID_dictionary', 'Time_dictionary', 'CHARTTIME_biolord',\n",
       "        'STORETIME_biolord', 'Sentence_biolord', 'Event_Name_biolord',\n",
       "        'CGID_biolord', 'Similarity', 'Eating_similarity',\n",
       "        'Excretion_similarity', 'Family_similarity', 'Pain_similarity',\n",
       "        'Sleep_similarity', 'Time_biolord', 'Event_Name_dictionary_multi'],\n",
       "       dtype='object'),\n",
       " Event_Name_dictionary\n",
       " [Unknown]                                                   309970\n",
       " [Pain]                                                        9100\n",
       " [Family]                                                      7036\n",
       " [Excretion]                                                   5776\n",
       " [Sleep]                                                       2118\n",
       " [Eating]                                                      1647\n",
       " [Family, Family]                                               713\n",
       " [Pain, Pain]                                                   691\n",
       " [Sleep, Sleep]                                                 248\n",
       " [Pain, Sleep]                                                  153\n",
       " [Family, Pain]                                                 149\n",
       " [Excretion, Excretion]                                         125\n",
       " [Eating, Eating]                                               114\n",
       " [Family, Family, Family]                                        81\n",
       " [Pain, Pain, Pain]                                              64\n",
       " [Family, Sleep]                                                 46\n",
       " [Excretion, Pain]                                               39\n",
       " [Eating, Pain]                                                  34\n",
       " [Eating, Family]                                                32\n",
       " [Pain, Sleep, Sleep]                                            26\n",
       " [Family, Family, Family, Family]                                24\n",
       " [Eating, Eating, Eating]                                        22\n",
       " [Excretion, Family]                                             21\n",
       " [Eating, Excretion]                                             16\n",
       " [Pain, Pain, Sleep]                                             13\n",
       " [Eating, Sleep]                                                 11\n",
       " [Sleep, Sleep, Sleep]                                            9\n",
       " [Pain, Pain, Pain, Pain]                                         8\n",
       " [Family, Pain, Pain]                                             8\n",
       " [Family, Family, Sleep]                                          8\n",
       " [Family, Family, Family, Family, Family]                         6\n",
       " [Pain, Pain, Pain, Sleep]                                        6\n",
       " [Family, Family, Pain]                                           5\n",
       " [Excretion, Family, Pain]                                        5\n",
       " [Excretion, Family, Family]                                      5\n",
       " [Eating, Family, Pain]                                           4\n",
       " [Eating, Eating, Eating, Eating]                                 3\n",
       " [Family, Sleep, Sleep]                                           3\n",
       " [Eating, Sleep, Sleep]                                           3\n",
       " [Eating, Eating, Family]                                         2\n",
       " [Excretion, Sleep, Sleep]                                        2\n",
       " [Eating, Eating, Pain]                                           2\n",
       " [Excretion, Excretion, Pain]                                     2\n",
       " [Excretion, Excretion, Family]                                   2\n",
       " [Excretion, Sleep]                                               2\n",
       " [Excretion, Excretion, Excretion, Excretion]                     2\n",
       " [Pain, Pain, Sleep, Sleep]                                       2\n",
       " [Eating, Family, Family]                                         2\n",
       " [Excretion, Excretion, Excretion]                                2\n",
       " [Excretion, Excretion, Pain, Pain, Pain]                         1\n",
       " [Excretion, Family, Family, Family]                              1\n",
       " [Pain, Pain, Pain, Sleep, Sleep]                                 1\n",
       " [Eating, Eating, Eating, Eating, Eating, Eating, Family]         1\n",
       " [Excretion, Family, Pain, Pain, Pain]                            1\n",
       " [Family, Family, Family, Family, Family, Family, Family]         1\n",
       " [Eating, Family, Sleep]                                          1\n",
       " [Excretion, Pain, Pain]                                          1\n",
       " [Family, Pain, Pain, Pain]                                       1\n",
       " [Family, Family, Family, Family, Pain, Pain]                     1\n",
       " [Eating, Eating, Eating, Eating, Family]                         1\n",
       " [Eating, Eating, Eating, Family]                                 1\n",
       " [Eating, Pain, Pain]                                             1\n",
       " [Sleep, Sleep, Sleep, Sleep]                                     1\n",
       " [Family, Family, Family, Pain, Pain]                             1\n",
       " [Family, Family, Family, Family, Family, Family]                 1\n",
       " [Eating, Family, Family, Family]                                 1\n",
       " [Eating, Eating, Eating, Excretion]                              1\n",
       " [Eating, Eating, Family, Family]                                 1\n",
       " [Eating, Eating, Sleep]                                          1\n",
       " [Eating, Eating, Family, Pain]                                   1\n",
       " [Family, Family, Family, Family, Sleep]                          1\n",
       " [Eating, Excretion, Pain]                                        1\n",
       " [Eating, Excretion, Family]                                      1\n",
       " [Eating, Eating, Excretion]                                      1\n",
       " [Excretion, Excretion, Family, Pain]                             1\n",
       " [Excretion, Pain, Sleep]                                         1\n",
       " [Family, Family, Pain, Pain, Pain, Pain]                         1\n",
       " [Family, Family, Pain, Pain]                                     1\n",
       " [Family, Pain, Sleep, Sleep]                                     1\n",
       " [Eating, Family, Pain, Sleep]                                    1\n",
       " [Family, Pain, Pain, Pain, Pain]                                 1\n",
       " [Pain, Sleep, Sleep, Sleep]                                      1\n",
       " Name: count, dtype: int64)"
      ]
     },
     "execution_count": 39,
     "metadata": {},
     "output_type": "execute_result"
    }
   ],
   "source": [
    "df_both.columns, df_both.Event_Name_dictionary.value_counts()"
   ]
  },
  {
   "cell_type": "code",
   "execution_count": null,
   "id": "ee3d4923",
   "metadata": {},
   "outputs": [],
   "source": []
  },
  {
   "cell_type": "code",
   "execution_count": null,
   "id": "cedb1564",
   "metadata": {},
   "outputs": [],
   "source": [
    "import seaborn as sns\n",
    "import matplotlib.pyplot as plt\n",
    "\n",
    "def plot_ecdf(sample, label=None):\n",
    "    if len(sample) > 0:\n",
    "        sns.ecdfplot(sample, label=label)\n",
    "        if label:\n",
    "            plt.legend()\n",
    "        \n",
    "        \n",
    "event_types = [\"Pain\", \"Sleep\", \"Excretion\", \"Eating\", \"Family\"]\n",
    "df_both[\"Event_Name_dictionary_multi\"] = df_both[\"Event_Name_dictionary\"].apply(lambda x: {i: x.count(i) if isinstance(x, list) else 0 for i in event_types})\n",
    "\n",
    "\n",
    "disagreement_1_list = []\n",
    "disagreement_2_list = []\n",
    "agreement_1_list = []\n",
    "agreement_2_list = []\n",
    "for selected_event_type in event_types:\n",
    "    print(selected_event_type)\n",
    "    df_both[f'contains_{selected_event_type}'] = df_both[\"Event_Name_dictionary_multi\"].apply(lambda x: True if (selected_event_type in set(x) and len(set(x)) == 1) else False)\n",
    "    for threshold in [\"0_2\"]:\n",
    "        th = float(threshold.replace(\"_\",\".\"))\n",
    "        # df_both[f'only_{selected_event_type}'] = df_both[\"Event_Name_dictionary\"].apply(lambda x: True if (selected_event_type in set(x) and len(set(x)) == 1) else False)\n",
    "        # df_both[f'contains_{selected_event_type}'] = df_both[\"Event_Name_dictionary\"].apply(lambda x: True if (selected_event_type in set(x) and len(set(x)) > 1) else False)\n",
    "        # df_both[f'contains_1ormore_{selected_event_type}'] = df_both[\"Event_Name_dictionary\"].apply(lambda x: True if (selected_event_type in set(x)) else False)\n",
    "        # df_both[f'no_{selected_event_type}'] = df_both[\"Event_Name_dictionary\"].apply(lambda x: True if (selected_event_type not in set(x) and (len(set(x)) == 1) and  set(x).pop() in event_types) else False)\n",
    "        df_both[f\"disagreement_only_{selected_event_type}_th_{threshold}\"] = df_both.apply(lambda x: True if (x[f'only_{selected_event_type}'] and x[f'{selected_event_type}_similarity']<th) else False, axis=1)\n",
    "        df_both[f\"disagreement_no_{selected_event_type}_th_{threshold}\"] = df_both.apply(lambda x: True if (x[f'no_{selected_event_type}'] and x[f'{selected_event_type}_similarity']>=th) else False, axis=1)\n",
    "        \n",
    "        disagreement1 = df_both[df_both[f\"disagreement_only_{selected_event_type}_th_0_2\"]]\n",
    "        disagreement2 = df_both[df_both[f\"disagreement_no_{selected_event_type}_th_0_2\"]]\n",
    "        common_to_both_disagreement = df_both[df_both[f\"disagreement_only_{selected_event_type}_th_0_2\"] & df_both[f\"disagreement_no_{selected_event_type}_th_0_2\"]]\n",
    "        print(selected_event_type, len(disagreement1), len(disagreement2), len(common_to_both_disagreement),len(df_both[df_both[f'contains_1ormore_{selected_event_type}']]))\n",
    "        plot_ecdf(df_both[df_both[f\"only_{selected_event_type}\"]][f\"{selected_event_type}_similarity\"], label=f\"only_{selected_event_type}\")\n",
    "        plot_ecdf(df_both[df_both[f\"contains_{selected_event_type}\"]][f\"{selected_event_type}_similarity\"], label=f\"contains_{selected_event_type}\")\n",
    "        plot_ecdf(df_both[df_both[f\"no_{selected_event_type}\"]][f\"{selected_event_type}_similarity\"], label=f\"no_{selected_event_type}\")\n",
    "        plt.show()\n",
    "        disagreement_1_list.append(disagreement1)\n",
    "        disagreement_2_list.append(disagreement2)\n",
    "        \n",
    "    df_both[f\"disagreement_unknown_th_{threshold}\"] = df_both.apply(lambda x: True if (x[f'Event_Name_dictionary']==\"Unknown\" and any([x[f'{selected_event_type}_similarity']>=th for selected_event_type in event_types])) else False, axis=1)\n",
    "    df_both[f\"disagreement_multi_th_{threshold}\"] = df_both.apply(lambda x: True if (len(x[f'Event_Name_dictionary'])>1 and all([x[f'{selected_event_type}_similarity']<=th for selected_event_type in event_types])) else False, axis=1)\n",
    "    disagreement1_df = pd.concat(disagreement_1_list)    \n",
    "    disagreement2_df = pd.concat(disagreement_2_list) \n",
    "    disagreement3_df = df_both[df_both[f\"disagreement_unknown_th_{threshold}\"]]\n",
    "    disagreement4_df = df_both[df_both[f\"disagreement_multi_th_{threshold}\"]]"
   ]
  },
  {
   "cell_type": "code",
   "execution_count": null,
   "id": "9052120e",
   "metadata": {},
   "outputs": [],
   "source": [
    "df_both[df_both[f'contains_1ormore_Eating']]['Keyword'].value_counts()\n",
    "\n",
    "df_both[df_both.Keyword.apply(lambda x: True if 'biting' in x else False)].to_excel('../exports/temp_view_biting.xlsx')"
   ]
  },
  {
   "cell_type": "code",
   "execution_count": null,
   "id": "aeef5807",
   "metadata": {},
   "outputs": [],
   "source": [
    "df_both"
   ]
  },
  {
   "cell_type": "code",
   "execution_count": null,
   "id": "0636f8c1",
   "metadata": {},
   "outputs": [],
   "source": [
    "disagreement2_df.Event_Name_dictionary.value_counts()"
   ]
  },
  {
   "cell_type": "code",
   "execution_count": null,
   "id": "b2156514",
   "metadata": {},
   "outputs": [],
   "source": [
    "print(len(disagreement2_df))\n",
    "disagreement2_df['Event_Name_dictionary_set'] = disagreement2_df['Event_Name_dictionary'].apply(lambda x: \"_\".join(sorted(list(set(x)))))\n",
    "def stratified_sample_df(df, col):\n",
    "    # Get the size of the smallest group\n",
    "    min_count = df[col].value_counts().min()\n",
    "\n",
    "    # Sample min_count rows from each group\n",
    "    samples = (\n",
    "        df.groupby(col)\n",
    "        .apply(lambda x: x.sample(n=min_count, random_state=1))\n",
    "        .reset_index(drop=True)\n",
    "    )\n",
    "\n",
    "    return samples\n",
    "\n",
    "disagreement2_df_startified = stratified_sample_df(disagreement2_df,\"Event_Name_dictionary_set\")"
   ]
  },
  {
   "cell_type": "code",
   "execution_count": null,
   "id": "d9753506",
   "metadata": {},
   "outputs": [],
   "source": [
    "disagreement2_df.Event_Name_dictionary_set.value_counts(), disagreement2_df_startified.Event_Name_dictionary_set.value_counts()"
   ]
  },
  {
   "cell_type": "code",
   "execution_count": null,
   "id": "9cad492e",
   "metadata": {},
   "outputs": [],
   "source": [
    "len(disagreement1_df)"
   ]
  },
  {
   "cell_type": "code",
   "execution_count": null,
   "id": "1682d77c",
   "metadata": {},
   "outputs": [],
   "source": [
    "import pandas as pd\n",
    "import os, sys\n",
    "from datetime import datetime\n",
    "\n",
    "parent_dir = os.path.abspath(os.path.join(os.getcwd(), '..'))\n",
    "if parent_dir not in sys.path:\n",
    "    sys.path.append(parent_dir)\n",
    "from utils.event_extractor import EventExtractor\n",
    "\n",
    "def extract_events(sentences, extractor, evidence={'keywords':[],'event_names':[],'similarities':[]}):\n",
    "    event_types = [\"Pain\", \"Sleep\", \"Excretion\", \"Eating\", \"Family\"]\n",
    "    events = extractor.extract_events(sentences=sentences, event_names=event_types, threshold=0.2, prompt_evidence=evidence)\n",
    "    return events\n",
    "\n",
    "\n"
   ]
  },
  {
   "cell_type": "code",
   "execution_count": null,
   "id": "8dae7b90",
   "metadata": {},
   "outputs": [],
   "source": [
    "os.makedirs(\"../exports/disagreements\", exist_ok=True)\n",
    "for file_name,disagreement_df_temp in {\"only_event_mention\":disagreement1_df.copy(), \n",
    "                                  \"no_particular_event_mention\":disagreement2_df.copy(),\n",
    "                                  \"unknown_event\":disagreement3_df.copy(),\n",
    "                                  \"multi_event\":disagreement4_df.copy()}.items():\n",
    "    print(file_name, datetime.now().strftime(\"%Y-%m-%d %H:%M:%S\"))\n",
    "    disagreement_df_temp['Keyword_set'] = disagreement_df_temp['Keyword'].apply(lambda x: list(set(x)))\n",
    "    disagreement_df_temp['Event_set'] = disagreement_df_temp['Event_Name_dictionary'].apply(lambda x: list(set(x))[0])\n",
    "    disagreement_df_temp[\"LLM_Events_no_evidence\"] = extract_events(disagreement_df_temp.Sentence_dictionary, \n",
    "                                                        EventExtractor(event_name_model_type=\"llama3\", attribute_model_type=\"None\"))\n",
    "    disagreement_df_temp[\"LLM_Events_dict_evidence\"] = extract_events(disagreement_df_temp.Sentence_dictionary, \n",
    "                                                        EventExtractor(event_name_model_type=\"llama3\", attribute_model_type=\"None\"),\n",
    "                                                        evidence={'keywords':disagreement_df_temp.Keyword_set.tolist(), \n",
    "                                                                        'event_names':disagreement_df_temp.Event_set.tolist(), \n",
    "                                                                        'similarities':[]})\n",
    "    disagreement_df_temp[\"LLM_Events_embedder_evidence\"] = extract_events(disagreement_df_temp.Sentence_dictionary, \n",
    "                                                        EventExtractor(event_name_model_type=\"llama3\", attribute_model_type=\"None\"),\n",
    "                                                        evidence={'keywords':[], \n",
    "                                                                        'event_names':[], \n",
    "                                                                        'similarities':disagreement_df_temp.Similarity.tolist()})\n",
    "    disagreement_df_temp[\"LLM_Events_all_evidence\"] = extract_events(disagreement_df_temp.Sentence_dictionary, \n",
    "                                                        EventExtractor(event_name_model_type=\"llama3\", attribute_model_type=\"None\"),\n",
    "                                                        evidence={'keywords':disagreement_df_temp.Keyword_set.tolist(), \n",
    "                                                                        'event_names':disagreement_df_temp.Event_set.tolist(), \n",
    "                                                                        'similarities':disagreement_df_temp.Similarity.tolist()})\n",
    "    disagreement_df_temp['Event_Name_LLM_Events_no_evidence'] = disagreement_df_temp['LLM_Events_no_evidence'].apply(lambda x: x['event'])\n",
    "    disagreement_df_temp['Event_Name_LLM_Events_dict_evidence'] = disagreement_df_temp['LLM_Events_dict_evidence'].apply(lambda x: x['event'])\n",
    "    disagreement_df_temp['Event_Name_LLM_Events_embedder_evidence'] = disagreement_df_temp['LLM_Events_embedder_evidence'].apply(lambda x: x['event'])\n",
    "    disagreement_df_temp['Event_Name_LLM_Events_all_evidence'] = disagreement_df_temp['LLM_Events_all_evidence'].apply(lambda x: x['event'])\n",
    "    disagreement_df_temp.to_pickle(f\"../exports/disagreements/{file_name}.pkl\")\n",
    "    "
   ]
  },
  {
   "cell_type": "code",
   "execution_count": null,
   "id": "fb08872f",
   "metadata": {},
   "outputs": [],
   "source": [
    "\n"
   ]
  },
  {
   "cell_type": "code",
   "execution_count": null,
   "id": "0d600c3d",
   "metadata": {},
   "outputs": [],
   "source": [
    "disagreement_df_temp[['Event_Name_dictionary','Event_Name_biolord','Event_Name_LLM_Events_no_evidence','Event_Name_LLM_Events_dict_evidence','Event_Name_LLM_Events_embedder_evidence','Event_Name_LLM_Events_all_evidence']]"
   ]
  },
  {
   "cell_type": "code",
   "execution_count": null,
   "id": "6ef993bc",
   "metadata": {},
   "outputs": [],
   "source": [
    "disagreement_df_temp[\"LLM_Events_all_evidence\"].iloc[0]"
   ]
  }
 ],
 "metadata": {
  "kernelspec": {
   "display_name": "Python 3",
   "language": "python",
   "name": "python3"
  },
  "language_info": {
   "codemirror_mode": {
    "name": "ipython",
    "version": 3
   },
   "file_extension": ".py",
   "mimetype": "text/x-python",
   "name": "python",
   "nbconvert_exporter": "python",
   "pygments_lexer": "ipython3",
   "version": "3.12.11"
  }
 },
 "nbformat": 4,
 "nbformat_minor": 5
}
