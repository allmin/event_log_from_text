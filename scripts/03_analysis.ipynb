{
 "cells": [
  {
   "cell_type": "code",
   "execution_count": 1,
   "metadata": {},
   "outputs": [
    {
     "name": "stderr",
     "output_type": "stream",
     "text": [
      "/home/asusaiyah/projects/event_log_from_text/.venv/lib/python3.12/site-packages/tqdm/auto.py:21: TqdmWarning: IProgress not found. Please update jupyter and ipywidgets. See https://ipywidgets.readthedocs.io/en/stable/user_install.html\n",
      "  from .autonotebook import tqdm as notebook_tqdm\n"
     ]
    }
   ],
   "source": [
    "import os, sys\n",
    "import pandas as pd\n",
    "parent_dir = os.path.abspath(os.path.join(os.getcwd(), '..'))\n",
    "if parent_dir not in sys.path:\n",
    "    sys.path.append(parent_dir)\n",
    "\n",
    "import importlib\n",
    "import utils.event_extractor  # your module\n",
    "\n",
    "importlib.reload(utils.event_extractor)\n",
    "from utils.event_extractor import EventExtractor  # re-import your class if needed\n",
    "\n",
    "\n",
    "filtered_reports_df = pd.read_pickle(\"../exports/filtered_patient_reports.pkl\")\n",
    "extractor = EventExtractor(event_name_model_type=\"biolord\", attribute_model_type=\"llama3\")\n",
    "\n",
    "def extract_events(sentences):\n",
    "    global extractor\n",
    "    event_types = [\"Pain\", \"Sleep\"]\n",
    "    events = extractor.extract_events(sentences=sentences, event_names=event_types, threshold=0.2)\n",
    "    return events\n"
   ]
  },
  {
   "cell_type": "code",
   "execution_count": null,
   "metadata": {},
   "outputs": [
    {
     "name": "stderr",
     "output_type": "stream",
     "text": [
      "/tmp/ipykernel_123394/3897294729.py:2: SettingWithCopyWarning: \n",
      "A value is trying to be set on a copy of a slice from a DataFrame.\n",
      "Try using .loc[row_indexer,col_indexer] = value instead\n",
      "\n",
      "See the caveats in the documentation: https://pandas.pydata.org/pandas-docs/stable/user_guide/indexing.html#returning-a-view-versus-a-copy\n",
      "  filtered_reports_df_debug['Events'] = filtered_reports_df_debug['Sentences'].apply(extract_events)\n"
     ]
    }
   ],
   "source": [
    "\n",
    "filtered_reports_df_debug = filtered_reports_df.head(1)\n",
    "filtered_reports_df_debug['Events'] = filtered_reports_df_debug['Sentences'].apply(extract_events)\n",
    "filtered_reports_df[\"Events\"] = filtered_reports_df['Sentences'].apply(extract_events)\n"
   ]
  },
  {
   "cell_type": "code",
   "execution_count": null,
   "metadata": {},
   "outputs": [
    {
     "data": {
      "text/plain": [
       "[{'22 yr old with type 1 iddm  since age 6. patient admitted with n/v and glu\\n   345, DKA.': {'event': 'Others',\n",
       "   'attributes': {}}},\n",
       " {'Tx in ew with ns , zolfran, morphine and iv insulin.': {'event': 'Others',\n",
       "   'attributes': {}}},\n",
       " {'Hx\\n   depression, high chol, gastritis with dka admit on [**2-27**].': {'event': 'Others',\n",
       "   'attributes': {}}},\n",
       " {'': {'event': 'Pain', 'attributes': {}}},\n",
       " {' iv insulin stopped 10 am with sc glargine at 0930,  fs on iv in\\n   80\\ns  now 130-160, no nausea , vomited at 0800 small amt approx 20 cc.\\n   tolerating fluids and jello': {'event': 'Others',\n",
       "   'attributes': {}}},\n",
       " {' increased coverage and extra dose glargine and humalog at 1630.': {'event': 'Others',\n",
       "   'attributes': {}}},\n",
       " {'labs drawn at a630, iv fluids off at 1500': {'event': 'Others',\n",
       "   'attributes': {}}},\n",
       " {' patient requesting solid supper and no n/v see 1630 labs': {'event': 'Others',\n",
       "   'attributes': {}}},\n",
       " {' cont qid fs and coverage with SSI, give antiemetics.': {'event': 'Sleep',\n",
       "   'attributes': {'': ''}}},\n",
       " {'Next labs\\n   [**2132**]': {'event': 'Others', 'attributes': {}}},\n",
       " {'': {'event': 'Pain', 'attributes': {}}},\n",
       " {' abd pain': {'event': 'Pain', 'attributes': {'Location': 'abd'}}},\n",
       " {'[**7-9**] and patient sleeping most of day after iv morphine\\n   administered.': {'event': 'Sleep',\n",
       "   'attributes': {'duration': '7-9',\n",
       "    'quality': 'most of day',\n",
       "    'medication_administered': 'iv morphine'}}},\n",
       " {'patient was on iv morphine at last admit and then oxycodone\\n   psot hospitalizartion.': {'event': 'Others',\n",
       "   'attributes': {}}},\n",
       " {'patient stated that he did not have any more\\n   oxycodone at home .': {'event': 'Others',\n",
       "   'attributes': {}}},\n",
       " {'requesting pain med q 4-5 hr.': {'event': 'Pain',\n",
       "   'attributes': {'duration': '4-5 hr', 'request_type': 'pain med'}}},\n",
       " {'hr 95-105 when c/o\\n   pain.': {'event': 'Pain',\n",
       "   'attributes': {'location': 'hr', 'quality': 'pain', 'time': '95-105'}}},\n",
       " {' iv morphine 2 mg x 2 doses and switched to by mouth.': {'event': 'Others',\n",
       "   'attributes': {}}},\n",
       " {' upon iv infusion of morphine hr dropped almost immediately to\\n   80\\ns and patient fell off to sleep': {'event': 'Sleep',\n",
       "   'attributes': {}}},\n",
       " {' monitor pain and eval for poss drug seeking behavior': {'event': 'Pain',\n",
       "   'attributes': {'ERROR': json.decoder.JSONDecodeError('Extra data: line 4 column 2 (char 69)'),\n",
       "    'input': 'A challenge!\\n\\nGiven the input sentence: \"monitor pain and eval for poss drug seeking behavior\"\\n\\nI will extract relevant attribute types and their corresponding values as follows:\\n\\n**Attributes:**\\n```\\n{\\n    \"attribute_type\": \"event_type\",\\n    \"attribute_value\": \"pain\"\\n},\\n{\\n    \"attribute_type\": \"evaluation_type\",\\n    \"attribute_value\": \"poss drug seeking behavior\"\\n}\\n```\\n\\nIn this sentence, I detected the following attribute types:\\n\\n1. `event_type`: The type of event being monitored, which is `pain`.\\n2. `evaluation_type`: The type of evaluation being performed, which is `poss drug seeking behavior`.\\n\\nNote that I did not extract any other attributes (e.g., location, quality, duration, time, medication, dosage) because they are not explicitly mentioned in the sentence.\\n\\nThe output format is a JSON object with two key-value pairs, each representing an attribute type and its corresponding value.'}}}]"
      ]
     },
     "execution_count": 3,
     "metadata": {},
     "output_type": "execute_result"
    }
   ],
   "source": [
    "filtered_reports_df.to_pickle(\"../exports/filtered_patient_reports_with_event_log.pkl\")"
   ]
  },
  {
   "cell_type": "code",
   "execution_count": null,
   "metadata": {},
   "outputs": [],
   "source": []
  }
 ],
 "metadata": {
  "kernelspec": {
   "display_name": ".venv",
   "language": "python",
   "name": "python3"
  },
  "language_info": {
   "codemirror_mode": {
    "name": "ipython",
    "version": 3
   },
   "file_extension": ".py",
   "mimetype": "text/x-python",
   "name": "python",
   "nbconvert_exporter": "python",
   "pygments_lexer": "ipython3",
   "version": "3.12.1"
  }
 },
 "nbformat": 4,
 "nbformat_minor": 2
}
