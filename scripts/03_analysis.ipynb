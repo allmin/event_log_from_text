{
 "cells": [
  {
   "cell_type": "code",
   "execution_count": 5,
   "metadata": {},
   "outputs": [],
   "source": [
    "import os, sys\n",
    "import pandas as pd\n",
    "parent_dir = os.path.abspath(os.path.join(os.getcwd(), '..'))\n",
    "if parent_dir not in sys.path:\n",
    "    sys.path.append(parent_dir)\n",
    "\n",
    "import importlib\n",
    "import utils.event_extractor  # your module\n",
    "\n",
    "importlib.reload(utils.event_extractor)\n",
    "from utils.event_extractor import EventExtractor  # re-import your class if needed\n",
    "\n",
    "\n",
    "filtered_reports_df = pd.read_pickle(\"../exports/filtered_patient_reports.pkl\")\n",
    "extractor = EventExtractor(event_name_model_type=\"biolord\", attribute_model_type=\"llama3\")\n",
    "\n",
    "def extract_events(sentences):\n",
    "    global extractor\n",
    "    event_types = [\"Pain\", \"Sleep\"]\n",
    "    events = extractor.extract_events(sentences=sentences, event_names=event_types, threshold=0.2)\n",
    "    return events\n"
   ]
  },
  {
   "cell_type": "code",
   "execution_count": null,
   "metadata": {},
   "outputs": [],
   "source": [
    "import glob, os\n",
    "os.makedirs(\"../exports/filtered_patient_reports_with_event_log/\",exist_ok=True)\n",
    "batch_size = 500\n",
    "for i in range(0, len(filtered_reports_df), batch_size):\n",
    "    batch = filtered_reports_df.iloc[i:i+batch_size]\n",
    "    batch[\"Events\"] = batch['Sentences'].apply(extract_events)\n",
    "    batch.to_pickle(f\"../exports/filtered_patient_reports_with_event_log/batch_{i//batch_size}.pkl\")\n",
    "batch_files = sorted(glob.glob(\"../exports/filtered_patient_reports_with_event_log/batch_*.pkl\"))\n",
    "combined_df = pd.concat([pd.read_pickle(f) for f in batch_files], ignore_index=True)\n",
    "combined_df.to_pickle(\"../exports/filtered_patient_reports_with_event_log/combined.pkl\")"
   ]
  }
 ],
 "metadata": {
  "kernelspec": {
   "display_name": ".venv",
   "language": "python",
   "name": "python3"
  },
  "language_info": {
   "codemirror_mode": {
    "name": "ipython",
    "version": 3
   },
   "file_extension": ".py",
   "mimetype": "text/x-python",
   "name": "python",
   "nbconvert_exporter": "python",
   "pygments_lexer": "ipython3",
   "version": "3.12.1"
  }
 },
 "nbformat": 4,
 "nbformat_minor": 2
}
