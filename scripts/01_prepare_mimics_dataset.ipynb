{
 "cells": [
  {
   "cell_type": "markdown",
   "metadata": {},
   "source": [
    "This notebook converts the csv files to pickle files for quick processing in python.\n",
    "Prerequisites: all the csv files of the mimics-iii database is dumped into a folder"
   ]
  },
  {
   "cell_type": "code",
   "execution_count": null,
   "metadata": {},
   "outputs": [],
   "source": [
    "from glob import glob\n",
    "import pandas as pd\n",
    "import os\n",
    "\n",
    "folder_containing_mimics_csv_files = os.environ.get(\"MIMICSPATH\")\n"
   ]
  },
  {
   "cell_type": "code",
   "execution_count": null,
   "metadata": {},
   "outputs": [],
   "source": [
    "\n",
    "filelist = sorted(glob(f\"{folder_containing_mimics_csv_files}/*.csv\"), key=os.path.getsize)\n",
    "print(filelist)\n",
    "for file_path in filelist:\n",
    "    os.makedirs(\"../data\",exist_ok=True)\n",
    "    op_file = os.path.join(\"../data/\", os.path.basename(file_path).replace(\".csv\", \".pkl\"))\n",
    "    print(f\"Processing {file_path}...\")\n",
    "    if os.path.exists(op_file):\n",
    "        print(f\"Skipping {file_path}, already processed.\")\n",
    "        continue\n",
    "    if \"ADMISSIONS.csv\" in file_path:\n",
    "        parse_cols =  [\"ADMITTIME\", \"DISCHTIME\"]\n",
    "    else:\n",
    "        parse_cols = None\n",
    "        \n",
    "    chunks = pd.read_csv(file_path, parse_dates=parse_cols, chunksize=10000)\n",
    "    all_chunks = []\n",
    "    for chunk in chunks:\n",
    "        all_chunks.append(chunk)\n",
    "    combined_df = pd.concat(all_chunks)\n",
    "    if \"HADM_ID\" in combined_df.columns:\n",
    "        combined_df = combined_df[~combined_df.HADM_ID.isna()]\n",
    "        combined_df[\"HADM_ID\"] = combined_df[\"HADM_ID\"].astype(int)\n",
    "    combined_df.to_pickle(op_file)\n"
   ]
  },
  {
   "cell_type": "code",
   "execution_count": null,
   "metadata": {},
   "outputs": [],
   "source": [
    "# Display all columns in all the files\n",
    "import os\n",
    "import pandas as pd\n",
    "\n",
    "# Path to the folder containing pickle files\n",
    "folder_path = \"../data\"\n",
    "\n",
    "# Iterate through all files in the folder\n",
    "for file_name in os.listdir(folder_path):\n",
    "    if file_name.endswith(\".pkl\"):  # Check if the file is a pickle file\n",
    "        file_path = os.path.join(folder_path, file_name)\n",
    "        try:\n",
    "            # Load the pickle file into a DataFrame\n",
    "            df = pd.read_pickle(file_path)\n",
    "            print(f\"Columns in {file_name}:\")\n",
    "            print(df.columns.tolist())\n",
    "            print()\n",
    "        except Exception as e:\n",
    "            print(f\"Error loading {file_name}: {e}\")\n"
   ]
  }
 ],
 "metadata": {
  "kernelspec": {
   "display_name": ".venv",
   "language": "python",
   "name": "python3"
  },
  "language_info": {
   "codemirror_mode": {
    "name": "ipython",
    "version": 3
   },
   "file_extension": ".py",
   "mimetype": "text/x-python",
   "name": "python",
   "nbconvert_exporter": "python",
   "pygments_lexer": "ipython3",
   "version": "3.12.1"
  }
 },
 "nbformat": 4,
 "nbformat_minor": 2
}
