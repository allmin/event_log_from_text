{
 "cells": [
  {
   "cell_type": "code",
   "execution_count": 24,
   "metadata": {},
   "outputs": [],
   "source": [
    "import pandas as pd\n",
    "import sys\n",
    "import os\n",
    "selected_categories = [\"Nursing\", \"Nursing/other\"]\n",
    "# Add parent directory to sys.path\n",
    "parent_dir = os.path.abspath(os.path.join(os.getcwd(), '..'))\n",
    "if parent_dir not in sys.path:\n",
    "    sys.path.append(parent_dir)\n",
    "\n",
    "import importlib\n",
    "import utils.event_extractor  \n",
    "\n",
    "importlib.reload(utils.event_extractor)\n",
    "from utils.event_extractor import EventExtractor  \n",
    "\n",
    "import pandas as pd\n",
    "import numpy as np\n",
    "\n",
    "def get_quartiles(df, column):\n",
    "    \"\"\"\n",
    "    Calculate the quartiles (Q1, Q2, Q3) for a given column in a DataFrame and return the quartile values along with the subset of rows between Q1 and Q2.\n",
    "\n",
    "    Parameters:\n",
    "        df (pd.DataFrame): The DataFrame containing the data.\n",
    "        column (str): The column name for which to calculate quartiles.\n",
    "\n",
    "    Returns:\n",
    "        tuple: (q1, q2, q3, mid_df)\n",
    "            q1 (float): 25th percentile value.\n",
    "            q2 (float): Median (50th percentile) value.\n",
    "            q3 (float): 75th percentile value.\n",
    "            mid_df (pd.DataFrame): Subset of df where column values are between q1 and q2 (inclusive).\n",
    "    \"\"\"\n",
    "    q1 = df[column].quantile(0.25)\n",
    "    q2 = df[column].median()\n",
    "    q3 = df[column].quantile(0.75)\n",
    "    mid_df = df[(df[column]>=q1)&(df[column]<=q2)]\n",
    "    num = len(mid_df)\n",
    "    print(f\"{column} Quartiles :\")\n",
    "    print(f\"Q1 (25th percentile): {q1:.2f}\")\n",
    "    print(f\"Q2 (Median):          {q2:.2f}\")\n",
    "    print(f\"Q3 (75th percentile): {q3:.2f}\")\n",
    "    print(f\"Number of rows in this range q1-q3: {num}\")\n",
    "    return q1,q2,q3,mid_df\n"
   ]
  },
  {
   "cell_type": "code",
   "execution_count": 25,
   "metadata": {},
   "outputs": [],
   "source": [
    "\n",
    "\n",
    "# Load the admissions data\n",
    "admissions = pd.read_pickle(\"../data/ADMISSIONS.pkl\")\n",
    "\n",
    "# Calculate Length of Stay in days\n",
    "admissions[\"LOS_DAYS\"] = (admissions[\"DISCHTIME\"] - admissions[\"ADMITTIME\"]).dt.total_seconds() / (24 * 3600)\n",
    "\n",
    "# stay_q1,stay_q2,stay_q3 = get_quartiles(admissions, \"LOS_DAYS\")\n",
    "\n",
    "\n",
    "\n"
   ]
  },
  {
   "cell_type": "markdown",
   "metadata": {},
   "source": [
    "Valid, alive patients are those who have a valide DOB and do not have a DOD associated to them.\n",
    "\n"
   ]
  },
  {
   "cell_type": "code",
   "execution_count": 26,
   "metadata": {},
   "outputs": [
    {
     "name": "stdout",
     "output_type": "stream",
     "text": [
      "Number of patients not known to have died: 30761\n",
      "   ROW_ID  SUBJECT_ID GENDER        DOB DOD DOD_HOSP DOD_SSN  EXPIRE_FLAG\n",
      "0     234         249      F 2075-03-13 NaT      NaT     NaT            0\n",
      "2     236         251      M 2090-03-15 NaT      NaT     NaT            0\n",
      "3     237         252      M 2078-03-06 NaT      NaT     NaT            0\n",
      "4     238         253      F 2089-11-26 NaT      NaT     NaT            0\n",
      "5     239         255      M 2109-08-05 NaT      NaT     NaT            0\n"
     ]
    },
    {
     "data": {
      "text/plain": [
       "Timestamp('1800-07-16 00:00:00')"
      ]
     },
     "execution_count": 26,
     "metadata": {},
     "output_type": "execute_result"
    }
   ],
   "source": [
    "\n",
    "# Load the PATIENTS.pkl file\n",
    "patients = pd.read_pickle(\"../data/PATIENTS.pkl\")\n",
    "notes = pd.read_pickle(\"../data/NOTEEVENTS.pkl\")\n",
    "notes['HADM_ID'] = notes['HADM_ID'].fillna(0).astype(int)\n",
    "date_cols = ['DOB', 'DOD', 'DOD_HOSP', 'DOD_SSN']\n",
    "patients[date_cols] = patients[date_cols].apply(pd.to_datetime, errors='coerce')\n",
    "\n",
    "# Filter patients with no recorded death\n",
    "alive_patients = patients[\n",
    "    patients['DOD'].isna() &\n",
    "    patients['DOD_HOSP'].isna() &\n",
    "    patients['DOD_SSN'].isna()\n",
    "]\n",
    "\n",
    "print(f\"Number of patients not known to have died: {len(alive_patients)}\")\n",
    "print(alive_patients.head())\n",
    "\n",
    "\n",
    "valid_alive_patients = alive_patients\n",
    "valid_alive_patients['DOB'].min()\n"
   ]
  },
  {
   "cell_type": "code",
   "execution_count": 27,
   "metadata": {},
   "outputs": [],
   "source": [
    "from datetime import datetime\n",
    "import numpy as np\n",
    "\n",
    "def calculate_age(row):\n",
    "    admit = row['ADMITTIME'].to_pydatetime()\n",
    "    dob = row['DOB'].to_pydatetime()\n",
    "    return (admit - dob).days / 365.25\n",
    "\n",
    "subject_id_to_dob = {i:j for (i,j) in zip(valid_alive_patients[\"SUBJECT_ID\"], valid_alive_patients[\"DOB\"])}\n",
    "\n",
    "\n",
    "\n",
    "\n",
    "grouped_notes = notes[notes.CATEGORY.isin(selected_categories)].groupby(['HADM_ID']).count()['TEXT'].reset_index().rename(columns={'TEXT': 'COUNT_TEXT'})\n",
    "hadm_to_num_report = {i:j for (i,j) in zip(grouped_notes[\"HADM_ID\"], grouped_notes[\"COUNT_TEXT\"])}\n",
    "\n",
    "\n",
    "\n",
    "admissions['DOB'] = admissions['SUBJECT_ID'].apply(lambda x: subject_id_to_dob.get(x, np.nan))\n",
    "admissions['AGE'] = admissions.apply(calculate_age, axis=1)\n",
    "admissions['NUM_REPORTS'] = admissions['HADM_ID'].apply(lambda x:hadm_to_num_report.get(x, np.nan))\n",
    "admissions = admissions[admissions.AGE<200]\n",
    "\n",
    "\n",
    "admissions.dropna(subset=[\"DOB\",\"NUM_REPORTS\"],inplace=True)\n",
    "\n"
   ]
  },
  {
   "cell_type": "code",
   "execution_count": 28,
   "metadata": {},
   "outputs": [
    {
     "name": "stdout",
     "output_type": "stream",
     "text": [
      "LOS_DAYS Quartiles :\n",
      "Q1 (25th percentile): 3.39\n",
      "Q2 (Median):          5.81\n",
      "Q3 (75th percentile): 10.72\n",
      "Number of rows in this range q1-q3: 6430\n",
      "NUM_REPORTS Quartiles :\n",
      "Q1 (25th percentile): 3.00\n",
      "Q2 (Median):          7.00\n",
      "Q3 (75th percentile): 18.00\n",
      "Number of rows in this range q1-q3: 9068\n",
      "AGE Quartiles :\n",
      "Q1 (25th percentile): 0.00\n",
      "Q2 (Median):          48.07\n",
      "Q3 (75th percentile): 64.72\n",
      "Number of rows in this range q1-q3: 12856\n"
     ]
    }
   ],
   "source": [
    "los_quartiles = get_quartiles(admissions, \"LOS_DAYS\")\n",
    "n_report_quartiles = get_quartiles(admissions, \"NUM_REPORTS\")\n",
    "age_quartiles = get_quartiles(admissions,\"AGE\")\n"
   ]
  },
  {
   "cell_type": "code",
   "execution_count": 29,
   "metadata": {},
   "outputs": [
    {
     "data": {
      "text/plain": [
       "1332"
      ]
     },
     "execution_count": 29,
     "metadata": {},
     "output_type": "execute_result"
    }
   ],
   "source": [
    "common_hadm = set(los_quartiles[-1][\"HADM_ID\"].tolist()).intersection(n_report_quartiles[-1][\"HADM_ID\"].tolist()).intersection(age_quartiles[-1][\"HADM_ID\"].to_list())\n",
    "len(common_hadm)"
   ]
  },
  {
   "cell_type": "code",
   "execution_count": null,
   "metadata": {},
   "outputs": [
    {
     "name": "stdout",
     "output_type": "stream",
     "text": [
      "['22 yr old with type 1 iddm  since age 6. patient admitted with n/v and glu\\n   345, DKA.', 'Tx in ew with ns , zolfran, morphine and iv insulin.', 'Hx\\n   depression, high chol, gastritis with dka admit on [**2-27**].', '', ' iv insulin stopped 10 am with sc glargine at 0930,  fs on iv in\\n   80\\ns  now 130-160, no nausea , vomited at 0800 small amt approx 20 cc.\\n   tolerating fluids and jello', ' increased coverage and extra dose glargine and humalog at 1630.', 'labs drawn at a630, iv fluids off at 1500', ' patient requesting solid supper and no n/v see 1630 labs', ' cont qid fs and coverage with SSI, give antiemetics.', 'Next labs\\n   [**2132**]', '', ' abd pain', '[**7-9**] and patient sleeping most of day after iv morphine\\n   administered.', 'patient was on iv morphine at last admit and then oxycodone\\n   psot hospitalizartion.', 'patient stated that he did not have any more\\n   oxycodone at home .', 'requesting pain med q 4-5 hr.', 'hr 95-105 when c/o\\n   pain.', ' iv morphine 2 mg x 2 doses and switched to by mouth.', ' upon iv infusion of morphine hr dropped almost immediately to\\n   80\\ns and patient fell off to sleep', ' monitor pain and eval for poss drug seeking behavior']\n"
     ]
    }
   ],
   "source": [
    "import os\n",
    "import spacy\n",
    "\n",
    "parent_dir = os.path.abspath(os.path.join(os.getcwd(), '..'))\n",
    "if parent_dir not in sys.path:\n",
    "    sys.path.append(parent_dir)\n",
    "    \n",
    "import utils.nlp_tools as nlp_tools\n",
    "nlp_tools = importlib.reload(nlp_tools)\n",
    "nlp = nlp_tools.TextLib(\"en_core_web_lg\")\n",
    "\n",
    "from resources.abbreviations import abbreviation_dict\n",
    "\n",
    "# Load the English model (download if you haven't: python -m spacy download en_core_web_lg)\n",
    "\n",
    "\n",
    "known_dict = {}\n",
    "def extract_sentences(text):\n",
    "\n",
    "    global known_dict\n",
    "    if text in known_dict:\n",
    "        return known_dict[text]\n",
    "    else:\n",
    "        text = nlp.replace_abbreviations(text,abbreviation_dict)\n",
    "        text = nlp.remove_error_strings(text)\n",
    "        sentences_raw = nlp.sentence_splitter(text,span=False)\n",
    "        sentences = [sent['text'] for sent in sentences_raw]\n",
    "        # headers = [sent['headers'] for sent in sentences_raw]\n",
    "        known_dict[text] = sentences\n",
    "    return sentences \n",
    "\n",
    "filtered_reports_df = notes[(notes[\"HADM_ID\"].isin(common_hadm)) & (notes[\"CATEGORY\"].isin(selected_categories))]\n",
    "print(extract_sentences(filtered_reports_df['TEXT'].iloc[0]))\n",
    "filtered_reports_df['Sentences'] = filtered_reports_df['TEXT'].apply(extract_sentences)\n"
   ]
  },
  {
   "cell_type": "code",
   "execution_count": 19,
   "metadata": {},
   "outputs": [],
   "source": [
    "import os\n",
    "os.makedirs(\"../exports\", exist_ok=True)\n",
    "filtered_reports_df.to_pickle(\"../exports/filtered_patient_reports.pkl\")"
   ]
  },
  {
   "cell_type": "code",
   "execution_count": null,
   "metadata": {},
   "outputs": [
    {
     "data": {
      "text/plain": [
       "['22 yr old with type 1 iddm  since age 6. patient admitted with n/v and glu\\n   345, DKA.',\n",
       " 'Tx in ew with ns , zolfran, morphine and iv insulin.',\n",
       " 'Hx\\n   depression, high chol, gastritis with dka admit on [**2-27**].',\n",
       " '',\n",
       " ' iv insulin stopped 10 am with sc glargine at 0930,  fs on iv in\\n   80\\ns  now 130-160, no nausea , vomited at 0800 small amt approx 20 cc.\\n   tolerating fluids and jello',\n",
       " ' increased coverage and extra dose glargine and humalog at 1630.',\n",
       " 'labs drawn at a630, iv fluids off at 1500',\n",
       " ' patient requesting solid supper and no n/v see 1630 labs',\n",
       " ' cont qid fs and coverage with SSI, give antiemetics.',\n",
       " 'Next labs\\n   [**2132**]',\n",
       " '',\n",
       " ' abd pain',\n",
       " '[**7-9**] and patient sleeping most of day after iv morphine\\n   administered.',\n",
       " 'patient was on iv morphine at last admit and then oxycodone\\n   psot hospitalizartion.',\n",
       " 'patient stated that he did not have any more\\n   oxycodone at home .',\n",
       " 'requesting pain med q 4-5 hr.',\n",
       " 'hr 95-105 when c/o\\n   pain.',\n",
       " ' iv morphine 2 mg x 2 doses and switched to by mouth.',\n",
       " ' upon iv infusion of morphine hr dropped almost immediately to\\n   80\\ns and patient fell off to sleep',\n",
       " ' monitor pain and eval for poss drug seeking behavior']"
      ]
     },
     "execution_count": 23,
     "metadata": {},
     "output_type": "execute_result"
    }
   ],
   "source": []
  }
 ],
 "metadata": {
  "kernelspec": {
   "display_name": ".venv",
   "language": "python",
   "name": "python3"
  },
  "language_info": {
   "codemirror_mode": {
    "name": "ipython",
    "version": 3
   },
   "file_extension": ".py",
   "mimetype": "text/x-python",
   "name": "python",
   "nbconvert_exporter": "python",
   "pygments_lexer": "ipython3",
   "version": "3.12.1"
  }
 },
 "nbformat": 4,
 "nbformat_minor": 2
}
